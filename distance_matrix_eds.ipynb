{
 "cells": [
  {
   "cell_type": "code",
   "execution_count": 1,
   "outputs": [],
   "source": [
    "import pandas as pd\n",
    "import numpy as np\n",
    "import googlemaps\n",
    "\n",
    "from geopy.distance import geodesic"
   ],
   "metadata": {
    "collapsed": false,
    "pycharm": {
     "name": "#%%\n"
    }
   }
  },
  {
   "cell_type": "markdown",
   "source": [
    "# Importar datos\n",
    "- geocode eds con tienda\n",
    "- geocode eds sin tienda\n",
    "- geocode oxxo RM"
   ],
   "metadata": {
    "collapsed": false,
    "pycharm": {
     "name": "#%% md\n"
    }
   }
  },
  {
   "cell_type": "code",
   "execution_count": 2,
   "outputs": [
    {
     "data": {
      "text/plain": "     codigo_sap  codigo_eds                 tienda   marca      formato  \\\n0          2009       10096           Pozo Almonte  Pronto        Barra   \n1          2013       20012     San Rafael Oriente  Pronto        Barra   \n2          2012       20017     San Carlos Oriente  Pronto        Barra   \n3          2056       20089           Puerto Varas  Pronto        Barra   \n4          2055       20091        Trafún Poniente  Pronto        Barra   \n..          ...         ...                    ...     ...          ...   \n408          -1       10436  AVDA. 27 DE ABRIL S/N   PUNTO    Foodtruck   \n409          -1       40183      La Serena Ruta 41   PUNTO  Punto Copec   \n410          -1       40188                  Olmué   PUNTO  Punto Copec   \n411          -1       10617       ANIBAL PINTO 400   PUNTO     Punto AP   \n412          -1       20011                Coronel   PUNTO  Punto Copec   \n\n       mercado                     direccion            comuna      region  \\\n0    Carretera    Panamericana norte km 1810      Pozo Almonte    Tarapacá   \n1    Carretera             RUTA 5 SUR KM 237        San Rafael       Maule   \n2    Carretera           RUTA 5 SUR KM 383,3        San Carlos       Ñuble   \n3    Carretera         RUTA 5 SUR KM 1009,4.      Puerto Varas   Los Lagos   \n4    Carretera  RUTA 5 SUR KM. 904,3 TRAFUN.         San Pablo   Los Lagos   \n..         ...                           ...               ...         ...   \n408     Urbana           AV. 27 DE ABRIL S/N              PICA    TARAPACA   \n409     Urbana              COLO COLO N°5300         LA SERENA    COQUIMBO   \n410     Urbana        AV ADOLFO EASTMAN 2603             OLMUÉ  VALPARAISO   \n411     Urbana                 Punto Iquique  DIEGO DE ALMAGRO     ATACAMA   \n412     Urbana                SOTOMAYOR 1300           CORONEL      BIOBIO   \n\n         EDS Zona                Dirección  Región   Provincia     Comuna  \\\n0        NaN  NaN                      NaN     NaN         NaN        NaN   \n1        NaN  NaN                      NaN     NaN         NaN        NaN   \n2        NaN  NaN                      NaN     NaN         NaN        NaN   \n3        NaN  NaN                      NaN     NaN         NaN        NaN   \n4        NaN  NaN                      NaN     NaN         NaN        NaN   \n..       ...  ...                      ...     ...         ...        ...   \n408  10436.0  OZN      AV. 27 DE ABRIL S/N     1.0    TARAPACÁ       PICA   \n409  40183.0  OZC         COLO COLO N°5300     4.0   LA SERENA  LA SERENA   \n410  40188.0  OZC  AV. ADOLFO EASTMAN 2603     5.0  VALPARAÍSO      OLMUE   \n411      NaN  NaN                      NaN     NaN         NaN        NaN   \n412  20011.0  OZS       AV. SOTOMAYOR 1300     8.0  CONCEPCIÓN    CORONEL   \n\n    Fecha Apertura  Latitud  Longitud  nueva_latitud  nueva_longitud  \n0              NaN      0.0       0.0     -20.256215      -69.785726  \n1              NaN      0.0       0.0     -35.291348      -71.507893  \n2              NaN      0.0       0.0     -30.627836      -71.501985  \n3              NaN      0.0       0.0     -41.351871      -72.986542  \n4              NaN      0.0       0.0     -40.411073      -73.001857  \n..             ...      ...       ...            ...             ...  \n408     2021-06-10      0.0       0.0     -20.489483      -69.330511  \n409     2021-07-01      0.0       0.0     -29.920573      -71.195887  \n410     2021-07-08      0.0       0.0     -32.998804      -71.215087  \n411            NaN      0.0       0.0     -26.390249      -70.047530  \n412     2021-08-18      0.0       0.0     -37.035319      -73.141808  \n\n[413 rows x 20 columns]",
      "text/html": "<div>\n<style scoped>\n    .dataframe tbody tr th:only-of-type {\n        vertical-align: middle;\n    }\n\n    .dataframe tbody tr th {\n        vertical-align: top;\n    }\n\n    .dataframe thead th {\n        text-align: right;\n    }\n</style>\n<table border=\"1\" class=\"dataframe\">\n  <thead>\n    <tr style=\"text-align: right;\">\n      <th></th>\n      <th>codigo_sap</th>\n      <th>codigo_eds</th>\n      <th>tienda</th>\n      <th>marca</th>\n      <th>formato</th>\n      <th>mercado</th>\n      <th>direccion</th>\n      <th>comuna</th>\n      <th>region</th>\n      <th>EDS</th>\n      <th>Zona</th>\n      <th>Dirección</th>\n      <th>Región</th>\n      <th>Provincia</th>\n      <th>Comuna</th>\n      <th>Fecha Apertura</th>\n      <th>Latitud</th>\n      <th>Longitud</th>\n      <th>nueva_latitud</th>\n      <th>nueva_longitud</th>\n    </tr>\n  </thead>\n  <tbody>\n    <tr>\n      <th>0</th>\n      <td>2009</td>\n      <td>10096</td>\n      <td>Pozo Almonte</td>\n      <td>Pronto</td>\n      <td>Barra</td>\n      <td>Carretera</td>\n      <td>Panamericana norte km 1810</td>\n      <td>Pozo Almonte</td>\n      <td>Tarapacá</td>\n      <td>NaN</td>\n      <td>NaN</td>\n      <td>NaN</td>\n      <td>NaN</td>\n      <td>NaN</td>\n      <td>NaN</td>\n      <td>NaN</td>\n      <td>0.0</td>\n      <td>0.0</td>\n      <td>-20.256215</td>\n      <td>-69.785726</td>\n    </tr>\n    <tr>\n      <th>1</th>\n      <td>2013</td>\n      <td>20012</td>\n      <td>San Rafael Oriente</td>\n      <td>Pronto</td>\n      <td>Barra</td>\n      <td>Carretera</td>\n      <td>RUTA 5 SUR KM 237</td>\n      <td>San Rafael</td>\n      <td>Maule</td>\n      <td>NaN</td>\n      <td>NaN</td>\n      <td>NaN</td>\n      <td>NaN</td>\n      <td>NaN</td>\n      <td>NaN</td>\n      <td>NaN</td>\n      <td>0.0</td>\n      <td>0.0</td>\n      <td>-35.291348</td>\n      <td>-71.507893</td>\n    </tr>\n    <tr>\n      <th>2</th>\n      <td>2012</td>\n      <td>20017</td>\n      <td>San Carlos Oriente</td>\n      <td>Pronto</td>\n      <td>Barra</td>\n      <td>Carretera</td>\n      <td>RUTA 5 SUR KM 383,3</td>\n      <td>San Carlos</td>\n      <td>Ñuble</td>\n      <td>NaN</td>\n      <td>NaN</td>\n      <td>NaN</td>\n      <td>NaN</td>\n      <td>NaN</td>\n      <td>NaN</td>\n      <td>NaN</td>\n      <td>0.0</td>\n      <td>0.0</td>\n      <td>-30.627836</td>\n      <td>-71.501985</td>\n    </tr>\n    <tr>\n      <th>3</th>\n      <td>2056</td>\n      <td>20089</td>\n      <td>Puerto Varas</td>\n      <td>Pronto</td>\n      <td>Barra</td>\n      <td>Carretera</td>\n      <td>RUTA 5 SUR KM 1009,4.</td>\n      <td>Puerto Varas</td>\n      <td>Los Lagos</td>\n      <td>NaN</td>\n      <td>NaN</td>\n      <td>NaN</td>\n      <td>NaN</td>\n      <td>NaN</td>\n      <td>NaN</td>\n      <td>NaN</td>\n      <td>0.0</td>\n      <td>0.0</td>\n      <td>-41.351871</td>\n      <td>-72.986542</td>\n    </tr>\n    <tr>\n      <th>4</th>\n      <td>2055</td>\n      <td>20091</td>\n      <td>Trafún Poniente</td>\n      <td>Pronto</td>\n      <td>Barra</td>\n      <td>Carretera</td>\n      <td>RUTA 5 SUR KM. 904,3 TRAFUN.</td>\n      <td>San Pablo</td>\n      <td>Los Lagos</td>\n      <td>NaN</td>\n      <td>NaN</td>\n      <td>NaN</td>\n      <td>NaN</td>\n      <td>NaN</td>\n      <td>NaN</td>\n      <td>NaN</td>\n      <td>0.0</td>\n      <td>0.0</td>\n      <td>-40.411073</td>\n      <td>-73.001857</td>\n    </tr>\n    <tr>\n      <th>...</th>\n      <td>...</td>\n      <td>...</td>\n      <td>...</td>\n      <td>...</td>\n      <td>...</td>\n      <td>...</td>\n      <td>...</td>\n      <td>...</td>\n      <td>...</td>\n      <td>...</td>\n      <td>...</td>\n      <td>...</td>\n      <td>...</td>\n      <td>...</td>\n      <td>...</td>\n      <td>...</td>\n      <td>...</td>\n      <td>...</td>\n      <td>...</td>\n      <td>...</td>\n    </tr>\n    <tr>\n      <th>408</th>\n      <td>-1</td>\n      <td>10436</td>\n      <td>AVDA. 27 DE ABRIL S/N</td>\n      <td>PUNTO</td>\n      <td>Foodtruck</td>\n      <td>Urbana</td>\n      <td>AV. 27 DE ABRIL S/N</td>\n      <td>PICA</td>\n      <td>TARAPACA</td>\n      <td>10436.0</td>\n      <td>OZN</td>\n      <td>AV. 27 DE ABRIL S/N</td>\n      <td>1.0</td>\n      <td>TARAPACÁ</td>\n      <td>PICA</td>\n      <td>2021-06-10</td>\n      <td>0.0</td>\n      <td>0.0</td>\n      <td>-20.489483</td>\n      <td>-69.330511</td>\n    </tr>\n    <tr>\n      <th>409</th>\n      <td>-1</td>\n      <td>40183</td>\n      <td>La Serena Ruta 41</td>\n      <td>PUNTO</td>\n      <td>Punto Copec</td>\n      <td>Urbana</td>\n      <td>COLO COLO N°5300</td>\n      <td>LA SERENA</td>\n      <td>COQUIMBO</td>\n      <td>40183.0</td>\n      <td>OZC</td>\n      <td>COLO COLO N°5300</td>\n      <td>4.0</td>\n      <td>LA SERENA</td>\n      <td>LA SERENA</td>\n      <td>2021-07-01</td>\n      <td>0.0</td>\n      <td>0.0</td>\n      <td>-29.920573</td>\n      <td>-71.195887</td>\n    </tr>\n    <tr>\n      <th>410</th>\n      <td>-1</td>\n      <td>40188</td>\n      <td>Olmué</td>\n      <td>PUNTO</td>\n      <td>Punto Copec</td>\n      <td>Urbana</td>\n      <td>AV ADOLFO EASTMAN 2603</td>\n      <td>OLMUÉ</td>\n      <td>VALPARAISO</td>\n      <td>40188.0</td>\n      <td>OZC</td>\n      <td>AV. ADOLFO EASTMAN 2603</td>\n      <td>5.0</td>\n      <td>VALPARAÍSO</td>\n      <td>OLMUE</td>\n      <td>2021-07-08</td>\n      <td>0.0</td>\n      <td>0.0</td>\n      <td>-32.998804</td>\n      <td>-71.215087</td>\n    </tr>\n    <tr>\n      <th>411</th>\n      <td>-1</td>\n      <td>10617</td>\n      <td>ANIBAL PINTO 400</td>\n      <td>PUNTO</td>\n      <td>Punto AP</td>\n      <td>Urbana</td>\n      <td>Punto Iquique</td>\n      <td>DIEGO DE ALMAGRO</td>\n      <td>ATACAMA</td>\n      <td>NaN</td>\n      <td>NaN</td>\n      <td>NaN</td>\n      <td>NaN</td>\n      <td>NaN</td>\n      <td>NaN</td>\n      <td>NaN</td>\n      <td>0.0</td>\n      <td>0.0</td>\n      <td>-26.390249</td>\n      <td>-70.047530</td>\n    </tr>\n    <tr>\n      <th>412</th>\n      <td>-1</td>\n      <td>20011</td>\n      <td>Coronel</td>\n      <td>PUNTO</td>\n      <td>Punto Copec</td>\n      <td>Urbana</td>\n      <td>SOTOMAYOR 1300</td>\n      <td>CORONEL</td>\n      <td>BIOBIO</td>\n      <td>20011.0</td>\n      <td>OZS</td>\n      <td>AV. SOTOMAYOR 1300</td>\n      <td>8.0</td>\n      <td>CONCEPCIÓN</td>\n      <td>CORONEL</td>\n      <td>2021-08-18</td>\n      <td>0.0</td>\n      <td>0.0</td>\n      <td>-37.035319</td>\n      <td>-73.141808</td>\n    </tr>\n  </tbody>\n</table>\n<p>413 rows × 20 columns</p>\n</div>"
     },
     "execution_count": 2,
     "metadata": {},
     "output_type": "execute_result"
    }
   ],
   "source": [
    "# Importar geocode de eds con tienda\n",
    "geocode_eds_con_tienda_df = pd.read_csv('geocode_eds_con_tienda.csv', sep=';')\n",
    "geocode_eds_con_tienda_df"
   ],
   "metadata": {
    "collapsed": false,
    "pycharm": {
     "name": "#%%\n"
    }
   }
  },
  {
   "cell_type": "code",
   "execution_count": 3,
   "outputs": [
    {
     "data": {
      "text/plain": "     codigo_sap  codigo_eds tienda           marca formato mercado  \\\n0            -1       10005      -  EDS Sin Tienda       -       -   \n1            -1       10009      -  EDS Sin Tienda       -       -   \n2            -1       10025      -  EDS Sin Tienda       -       -   \n3            -1       10040      -  EDS Sin Tienda       -       -   \n4            -1       10194      -  EDS Sin Tienda       -       -   \n..          ...         ...    ...             ...     ...     ...   \n260          -1       60561      -  EDS Sin Tienda       -       -   \n261          -1       60758      -  EDS Sin Tienda       -       -   \n262          -1       60824      -  EDS Sin Tienda       -       -   \n263          -1       60838      -  EDS Sin Tienda       -       -   \n264          -1       60999      -  EDS Sin Tienda       -       -   \n\n                                        direccion            comuna  \\\n0                              AV. EL TOFO N° 043  DIEGO DE ALMAGRO   \n1               AV. MEJILLONES 4950, ESQ. ILLAPEL       ANTOFAGASTA   \n2                            RUTA 5 NORTE KM 1398       ANTOFAGASTA   \n3                               SAN MARTIN N° 699             ARICA   \n4                          PANAMERICANA NORTE S/N      SIERRA GORDA   \n..                                            ...               ...   \n260                  30 KM AL NORESTE DE RANCAGUA           MACHALÍ   \n261  CARDENAL CARO S/N ESQ. OBISPO LARRAÍN N° 792          LITUECHE   \n262                        AV. LA FLORIDA N° 7165        LA FLORIDA   \n263                      CAMINO A PICHILEMU KM 65         PERALILLO   \n264                     AV. INDEPENDENCIA N° 1517     INDEPENDENCIA   \n\n                 region  EDS Zona Dirección  Región Provincia Comuna  \\\n0               ATACAMA  0.0    0         0     0.0         0      0   \n1           ANTOFAGASTA  0.0    0         0     0.0         0      0   \n2           ANTOFAGASTA  0.0    0         0     0.0         0      0   \n3    ARICA Y PARINACOTA  0.0    0         0     0.0         0      0   \n4           ANTOFAGASTA  0.0    0         0     0.0         0      0   \n..                  ...  ...  ...       ...     ...       ...    ...   \n260           O HIGGINS  0.0    0         0     0.0         0      0   \n261           O HIGGINS  0.0    0         0     0.0         0      0   \n262       METROPOLITANA  0.0    0         0     0.0         0      0   \n263           O HIGGINS  0.0    0         0     0.0         0      0   \n264       METROPOLITANA  0.0    0         0     0.0         0      0   \n\n    Fecha Apertura  Latitud  Longitud  nueva_latitud  nueva_longitud  \n0                0      0.0       0.0     -26.250968      -69.626347  \n1                0      0.0       0.0     -23.625154      -70.391202  \n2                0      0.0       0.0     -30.777949      -71.554519  \n3                0      0.0       0.0     -18.479824      -70.313511  \n4                0      0.0       0.0     -23.105991      -69.608076  \n..             ...      ...       ...            ...             ...  \n260              0      0.0       0.0     -34.179452      -70.656515  \n261              0      0.0       0.0     -34.117735      -71.729929  \n262              0      0.0       0.0     -33.520487      -70.580491  \n263              0      0.0       0.0     -34.518611      -71.970278  \n264              0      0.0       0.0     -33.413149      -70.658148  \n\n[265 rows x 20 columns]",
      "text/html": "<div>\n<style scoped>\n    .dataframe tbody tr th:only-of-type {\n        vertical-align: middle;\n    }\n\n    .dataframe tbody tr th {\n        vertical-align: top;\n    }\n\n    .dataframe thead th {\n        text-align: right;\n    }\n</style>\n<table border=\"1\" class=\"dataframe\">\n  <thead>\n    <tr style=\"text-align: right;\">\n      <th></th>\n      <th>codigo_sap</th>\n      <th>codigo_eds</th>\n      <th>tienda</th>\n      <th>marca</th>\n      <th>formato</th>\n      <th>mercado</th>\n      <th>direccion</th>\n      <th>comuna</th>\n      <th>region</th>\n      <th>EDS</th>\n      <th>Zona</th>\n      <th>Dirección</th>\n      <th>Región</th>\n      <th>Provincia</th>\n      <th>Comuna</th>\n      <th>Fecha Apertura</th>\n      <th>Latitud</th>\n      <th>Longitud</th>\n      <th>nueva_latitud</th>\n      <th>nueva_longitud</th>\n    </tr>\n  </thead>\n  <tbody>\n    <tr>\n      <th>0</th>\n      <td>-1</td>\n      <td>10005</td>\n      <td>-</td>\n      <td>EDS Sin Tienda</td>\n      <td>-</td>\n      <td>-</td>\n      <td>AV. EL TOFO N° 043</td>\n      <td>DIEGO DE ALMAGRO</td>\n      <td>ATACAMA</td>\n      <td>0.0</td>\n      <td>0</td>\n      <td>0</td>\n      <td>0.0</td>\n      <td>0</td>\n      <td>0</td>\n      <td>0</td>\n      <td>0.0</td>\n      <td>0.0</td>\n      <td>-26.250968</td>\n      <td>-69.626347</td>\n    </tr>\n    <tr>\n      <th>1</th>\n      <td>-1</td>\n      <td>10009</td>\n      <td>-</td>\n      <td>EDS Sin Tienda</td>\n      <td>-</td>\n      <td>-</td>\n      <td>AV. MEJILLONES 4950, ESQ. ILLAPEL</td>\n      <td>ANTOFAGASTA</td>\n      <td>ANTOFAGASTA</td>\n      <td>0.0</td>\n      <td>0</td>\n      <td>0</td>\n      <td>0.0</td>\n      <td>0</td>\n      <td>0</td>\n      <td>0</td>\n      <td>0.0</td>\n      <td>0.0</td>\n      <td>-23.625154</td>\n      <td>-70.391202</td>\n    </tr>\n    <tr>\n      <th>2</th>\n      <td>-1</td>\n      <td>10025</td>\n      <td>-</td>\n      <td>EDS Sin Tienda</td>\n      <td>-</td>\n      <td>-</td>\n      <td>RUTA 5 NORTE KM 1398</td>\n      <td>ANTOFAGASTA</td>\n      <td>ANTOFAGASTA</td>\n      <td>0.0</td>\n      <td>0</td>\n      <td>0</td>\n      <td>0.0</td>\n      <td>0</td>\n      <td>0</td>\n      <td>0</td>\n      <td>0.0</td>\n      <td>0.0</td>\n      <td>-30.777949</td>\n      <td>-71.554519</td>\n    </tr>\n    <tr>\n      <th>3</th>\n      <td>-1</td>\n      <td>10040</td>\n      <td>-</td>\n      <td>EDS Sin Tienda</td>\n      <td>-</td>\n      <td>-</td>\n      <td>SAN MARTIN N° 699</td>\n      <td>ARICA</td>\n      <td>ARICA Y PARINACOTA</td>\n      <td>0.0</td>\n      <td>0</td>\n      <td>0</td>\n      <td>0.0</td>\n      <td>0</td>\n      <td>0</td>\n      <td>0</td>\n      <td>0.0</td>\n      <td>0.0</td>\n      <td>-18.479824</td>\n      <td>-70.313511</td>\n    </tr>\n    <tr>\n      <th>4</th>\n      <td>-1</td>\n      <td>10194</td>\n      <td>-</td>\n      <td>EDS Sin Tienda</td>\n      <td>-</td>\n      <td>-</td>\n      <td>PANAMERICANA NORTE S/N</td>\n      <td>SIERRA GORDA</td>\n      <td>ANTOFAGASTA</td>\n      <td>0.0</td>\n      <td>0</td>\n      <td>0</td>\n      <td>0.0</td>\n      <td>0</td>\n      <td>0</td>\n      <td>0</td>\n      <td>0.0</td>\n      <td>0.0</td>\n      <td>-23.105991</td>\n      <td>-69.608076</td>\n    </tr>\n    <tr>\n      <th>...</th>\n      <td>...</td>\n      <td>...</td>\n      <td>...</td>\n      <td>...</td>\n      <td>...</td>\n      <td>...</td>\n      <td>...</td>\n      <td>...</td>\n      <td>...</td>\n      <td>...</td>\n      <td>...</td>\n      <td>...</td>\n      <td>...</td>\n      <td>...</td>\n      <td>...</td>\n      <td>...</td>\n      <td>...</td>\n      <td>...</td>\n      <td>...</td>\n      <td>...</td>\n    </tr>\n    <tr>\n      <th>260</th>\n      <td>-1</td>\n      <td>60561</td>\n      <td>-</td>\n      <td>EDS Sin Tienda</td>\n      <td>-</td>\n      <td>-</td>\n      <td>30 KM AL NORESTE DE RANCAGUA</td>\n      <td>MACHALÍ</td>\n      <td>O HIGGINS</td>\n      <td>0.0</td>\n      <td>0</td>\n      <td>0</td>\n      <td>0.0</td>\n      <td>0</td>\n      <td>0</td>\n      <td>0</td>\n      <td>0.0</td>\n      <td>0.0</td>\n      <td>-34.179452</td>\n      <td>-70.656515</td>\n    </tr>\n    <tr>\n      <th>261</th>\n      <td>-1</td>\n      <td>60758</td>\n      <td>-</td>\n      <td>EDS Sin Tienda</td>\n      <td>-</td>\n      <td>-</td>\n      <td>CARDENAL CARO S/N ESQ. OBISPO LARRAÍN N° 792</td>\n      <td>LITUECHE</td>\n      <td>O HIGGINS</td>\n      <td>0.0</td>\n      <td>0</td>\n      <td>0</td>\n      <td>0.0</td>\n      <td>0</td>\n      <td>0</td>\n      <td>0</td>\n      <td>0.0</td>\n      <td>0.0</td>\n      <td>-34.117735</td>\n      <td>-71.729929</td>\n    </tr>\n    <tr>\n      <th>262</th>\n      <td>-1</td>\n      <td>60824</td>\n      <td>-</td>\n      <td>EDS Sin Tienda</td>\n      <td>-</td>\n      <td>-</td>\n      <td>AV. LA FLORIDA N° 7165</td>\n      <td>LA FLORIDA</td>\n      <td>METROPOLITANA</td>\n      <td>0.0</td>\n      <td>0</td>\n      <td>0</td>\n      <td>0.0</td>\n      <td>0</td>\n      <td>0</td>\n      <td>0</td>\n      <td>0.0</td>\n      <td>0.0</td>\n      <td>-33.520487</td>\n      <td>-70.580491</td>\n    </tr>\n    <tr>\n      <th>263</th>\n      <td>-1</td>\n      <td>60838</td>\n      <td>-</td>\n      <td>EDS Sin Tienda</td>\n      <td>-</td>\n      <td>-</td>\n      <td>CAMINO A PICHILEMU KM 65</td>\n      <td>PERALILLO</td>\n      <td>O HIGGINS</td>\n      <td>0.0</td>\n      <td>0</td>\n      <td>0</td>\n      <td>0.0</td>\n      <td>0</td>\n      <td>0</td>\n      <td>0</td>\n      <td>0.0</td>\n      <td>0.0</td>\n      <td>-34.518611</td>\n      <td>-71.970278</td>\n    </tr>\n    <tr>\n      <th>264</th>\n      <td>-1</td>\n      <td>60999</td>\n      <td>-</td>\n      <td>EDS Sin Tienda</td>\n      <td>-</td>\n      <td>-</td>\n      <td>AV. INDEPENDENCIA N° 1517</td>\n      <td>INDEPENDENCIA</td>\n      <td>METROPOLITANA</td>\n      <td>0.0</td>\n      <td>0</td>\n      <td>0</td>\n      <td>0.0</td>\n      <td>0</td>\n      <td>0</td>\n      <td>0</td>\n      <td>0.0</td>\n      <td>0.0</td>\n      <td>-33.413149</td>\n      <td>-70.658148</td>\n    </tr>\n  </tbody>\n</table>\n<p>265 rows × 20 columns</p>\n</div>"
     },
     "execution_count": 3,
     "metadata": {},
     "output_type": "execute_result"
    }
   ],
   "source": [
    "# Importar geocode de eds sin tienda\n",
    "geocode_eds_sin_tienda_df = pd.read_csv('geocode_eds_sin_tienda.csv', sep=';')\n",
    "geocode_eds_sin_tienda_df.fillna(0, inplace=True)\n",
    "geocode_eds_sin_tienda_df"
   ],
   "metadata": {
    "collapsed": false,
    "pycharm": {
     "name": "#%%\n"
    }
   }
  },
  {
   "cell_type": "code",
   "execution_count": 4,
   "outputs": [
    {
     "data": {
      "text/plain": "                                              address  nueva_latitud  \\\n0   Bandera 177, Santiago, Región Metropolitana, C...     -33.441155   \n1   General Mackenna 1010. Estación Metro Cal y Ca...     -33.433147   \n2   Morandé 801, Local 102, Santiago, Región Metro...     -33.433593   \n3   Agustinas 1454 Depto. 5, Santiago, Región Metr...     -33.441481   \n4   Compañía de Jesús 1579, locales 4 - 5, Santiag...     -33.439172   \n..                                                ...            ...   \n82  San Damián N°20, Local 1B, Las Condes, Región ...     -33.376485   \n83  Av. José Alcalde Delano 10581, Local 3, Lo Bar...     -33.355624   \n84  Avenida La Plaza 1250, Local B, Las Condes San...     -33.395221   \n85  Av. Las Condes 12340, Lo Barnechea, Región Met...     -33.372185   \n86  Av. Las Condes 12523, Las Condes, Región Metro...     -33.372482   \n\n    nueva_longitud  \n0       -70.652000  \n1       -70.652144  \n2       -70.654314  \n3       -70.657130  \n4       -70.659062  \n..             ...  \n82      -70.524893  \n83      -70.535139  \n84      -70.505088  \n85      -70.518382  \n86      -70.515547  \n\n[87 rows x 3 columns]",
      "text/html": "<div>\n<style scoped>\n    .dataframe tbody tr th:only-of-type {\n        vertical-align: middle;\n    }\n\n    .dataframe tbody tr th {\n        vertical-align: top;\n    }\n\n    .dataframe thead th {\n        text-align: right;\n    }\n</style>\n<table border=\"1\" class=\"dataframe\">\n  <thead>\n    <tr style=\"text-align: right;\">\n      <th></th>\n      <th>address</th>\n      <th>nueva_latitud</th>\n      <th>nueva_longitud</th>\n    </tr>\n  </thead>\n  <tbody>\n    <tr>\n      <th>0</th>\n      <td>Bandera 177, Santiago, Región Metropolitana, C...</td>\n      <td>-33.441155</td>\n      <td>-70.652000</td>\n    </tr>\n    <tr>\n      <th>1</th>\n      <td>General Mackenna 1010. Estación Metro Cal y Ca...</td>\n      <td>-33.433147</td>\n      <td>-70.652144</td>\n    </tr>\n    <tr>\n      <th>2</th>\n      <td>Morandé 801, Local 102, Santiago, Región Metro...</td>\n      <td>-33.433593</td>\n      <td>-70.654314</td>\n    </tr>\n    <tr>\n      <th>3</th>\n      <td>Agustinas 1454 Depto. 5, Santiago, Región Metr...</td>\n      <td>-33.441481</td>\n      <td>-70.657130</td>\n    </tr>\n    <tr>\n      <th>4</th>\n      <td>Compañía de Jesús 1579, locales 4 - 5, Santiag...</td>\n      <td>-33.439172</td>\n      <td>-70.659062</td>\n    </tr>\n    <tr>\n      <th>...</th>\n      <td>...</td>\n      <td>...</td>\n      <td>...</td>\n    </tr>\n    <tr>\n      <th>82</th>\n      <td>San Damián N°20, Local 1B, Las Condes, Región ...</td>\n      <td>-33.376485</td>\n      <td>-70.524893</td>\n    </tr>\n    <tr>\n      <th>83</th>\n      <td>Av. José Alcalde Delano 10581, Local 3, Lo Bar...</td>\n      <td>-33.355624</td>\n      <td>-70.535139</td>\n    </tr>\n    <tr>\n      <th>84</th>\n      <td>Avenida La Plaza 1250, Local B, Las Condes San...</td>\n      <td>-33.395221</td>\n      <td>-70.505088</td>\n    </tr>\n    <tr>\n      <th>85</th>\n      <td>Av. Las Condes 12340, Lo Barnechea, Región Met...</td>\n      <td>-33.372185</td>\n      <td>-70.518382</td>\n    </tr>\n    <tr>\n      <th>86</th>\n      <td>Av. Las Condes 12523, Las Condes, Región Metro...</td>\n      <td>-33.372482</td>\n      <td>-70.515547</td>\n    </tr>\n  </tbody>\n</table>\n<p>87 rows × 3 columns</p>\n</div>"
     },
     "execution_count": 4,
     "metadata": {},
     "output_type": "execute_result"
    }
   ],
   "source": [
    "# Importar geocode de oxxo\n",
    "geocode_oxxo_df = pd.read_csv('geocode_oxxo.csv', sep=';')\n",
    "geocode_oxxo_df"
   ],
   "metadata": {
    "collapsed": false,
    "pycharm": {
     "name": "#%%\n"
    }
   }
  },
  {
   "cell_type": "markdown",
   "source": [
    "# Calcular la distancia geodésica\n",
    "- entre eds con tienda y oxxo RM\n",
    "- entre eds sin tienda y oxxo RM"
   ],
   "metadata": {
    "collapsed": false,
    "pycharm": {
     "name": "#%% md\n"
    }
   }
  },
  {
   "cell_type": "code",
   "execution_count": 5,
   "outputs": [
    {
     "data": {
      "text/plain": "array([[1463.45995857, 1462.57434575, 1462.63637281, ..., 1457.59200927,\n        1455.10555279, 1455.12455039],\n       [ 219.81971032,  220.64577233,  220.52832003, ...,  229.67905337,\n         231.54229729,  231.61460416],\n       [ 322.12341171,  321.26080012,  321.25757136, ...,  320.99085728,\n         318.18370919,  318.29356758],\n       ...,\n       [  71.84864742,   71.23694044,   71.12153113, ...,   79.47252124,\n          77.04713068,   77.28784736],\n       [ 783.77637165,  782.89187734,  782.95685428, ...,  777.76414814,\n         775.28771595,  775.30469231],\n       [ 458.60814704,  459.37941702,  459.23873371, ...,  469.76140987,\n         471.36221011,  471.46431991]])"
     },
     "execution_count": 5,
     "metadata": {},
     "output_type": "execute_result"
    }
   ],
   "source": [
    "# Calcular distancia entre todas las eds con tienda y las tiendas oxxo\n",
    "geodesic_distance_con_tiendas = np.zeros((len(geocode_eds_con_tienda_df), len(geocode_oxxo_df)))\n",
    "for i in range(0, len(geocode_eds_con_tienda_df)):\n",
    "    for j in range(0, len(geocode_oxxo_df)):\n",
    "\n",
    "        coord_eds = (geocode_eds_con_tienda_df.loc[i, ['nueva_latitud']].values[0], geocode_eds_con_tienda_df.loc[i, ['nueva_longitud']].values[0])\n",
    "        coord_oxxo = (geocode_oxxo_df.loc[j, ['nueva_latitud']].values[0], geocode_oxxo_df.loc[j, ['nueva_longitud']].values[0])\n",
    "\n",
    "        geodesic_distance_con_tiendas[i,j] = geodesic(coord_eds, coord_oxxo).km\n",
    "\n",
    "geodesic_distance_con_tiendas"
   ],
   "metadata": {
    "collapsed": false,
    "pycharm": {
     "name": "#%%\n"
    }
   }
  },
  {
   "cell_type": "code",
   "execution_count": 6,
   "outputs": [
    {
     "data": {
      "text/plain": "array([[ 803.15936928,  802.28021344,  802.35518137, ...,  796.47191329,\n         794.07080988,  794.073978  ],\n       [1088.20143251, 1087.31384709, 1087.36832874, ..., 1082.86593745,\n        1080.32526442, 1080.35513084],\n       [ 307.35411803,  306.49807032,  306.48876467, ...,  306.66242877,\n         303.84338242,  303.96084728],\n       ...,\n       [  11.02698833,   11.75571699,   11.83074809, ...,   15.56188601,\n          17.4328516 ,   17.49095435],\n       [ 170.65108015,  171.26877903,  171.09120005, ...,  184.02901607,\n         184.88769551,  185.05519129],\n       [   3.15839526,    2.28721743,    2.29539367, ...,   14.3765339 ,\n          13.77426514,   14.012885  ]])"
     },
     "execution_count": 6,
     "metadata": {},
     "output_type": "execute_result"
    }
   ],
   "source": [
    "# Calcular distancia entre todas las eds con tienda y las tiendas oxxo\n",
    "geodesic_distance_sin_tiendas = np.zeros((len(geocode_eds_sin_tienda_df), len(geocode_oxxo_df)))\n",
    "for i in range(0, len(geocode_eds_sin_tienda_df)):\n",
    "    for j in range(0, len(geocode_oxxo_df)):\n",
    "\n",
    "        coord_eds = (geocode_eds_sin_tienda_df.loc[i, ['nueva_latitud']].values[0], geocode_eds_sin_tienda_df.loc[i, ['nueva_longitud']].values[0])\n",
    "        coord_oxxo = (geocode_oxxo_df.loc[j, ['nueva_latitud']].values[0], geocode_oxxo_df.loc[j, ['nueva_longitud']].values[0])\n",
    "\n",
    "        geodesic_distance_sin_tiendas[i,j] = geodesic(coord_eds, coord_oxxo).km\n",
    "\n",
    "geodesic_distance_sin_tiendas"
   ],
   "metadata": {
    "collapsed": false,
    "pycharm": {
     "name": "#%%\n"
    }
   }
  },
  {
   "cell_type": "code",
   "execution_count": 7,
   "outputs": [],
   "source": [
    "geodesic_distance_con_tienda_df = pd.DataFrame(geodesic_distance_con_tiendas)\n",
    "geodesic_distance_sin_tienda_df = pd.DataFrame(geodesic_distance_sin_tiendas)\n",
    "\n",
    "geodesic_distance_con_tienda_df.to_csv('geodesic_distance_con_tiendas.csv', sep=';', index=False)\n",
    "geodesic_distance_sin_tienda_df.to_csv('geodesic_distance_sin_tiendas.csv', sep=';', index=False)"
   ],
   "metadata": {
    "collapsed": false,
    "pycharm": {
     "name": "#%%\n"
    }
   }
  },
  {
   "cell_type": "markdown",
   "source": [
    "# Carcular distancia tiempo de viaje en vehiculo (google maps api)\n",
    "- entre eds con tienda y oxxo RM\n",
    "- entre eds sin tienda y oxxo RM"
   ],
   "metadata": {
    "collapsed": false,
    "pycharm": {
     "name": "#%% md\n"
    }
   }
  },
  {
   "cell_type": "code",
   "execution_count": 17,
   "outputs": [],
   "source": [
    "import json\n",
    "\n",
    "with open('credential.json') as json_file:\n",
    "  data = json.load(json_file)\n",
    "\n",
    "key = data[\"gmaps_api_key\"]\n",
    "gmaps = googlemaps.Client(key=key)"
   ],
   "metadata": {
    "collapsed": false,
    "pycharm": {
     "name": "#%%\n"
    }
   }
  },
  {
   "cell_type": "code",
   "execution_count": 9,
   "outputs": [
    {
     "name": "stdout",
     "output_type": "stream",
     "text": [
      "[[1767599. 1767149. 1766728. ... 1782731. 1780204. 1780890.]\n",
      " [ 235762.  236974.  236968. ...  254467.  254134.  252871.]\n",
      " [ 388082.  387633.  387211. ...  403214.  400687.  401374.]\n",
      " ...\n",
      " [ 100384.   99935.   99514. ...  115517.  112989.  113676.]\n",
      " [ 949487.  949037.  948616. ...  964619.  962092.  962778.]\n",
      " [ 533086.  534298.  534292. ...  551792.  551459.  550196.]] [[68750. 68689. 68682. ... 69587. 68998. 69164.]\n",
      " [ 9076.  9049.  9101. ... 10152.  9673.  9810.]\n",
      " [14971. 14911. 14904. ... 15809. 15219. 15385.]\n",
      " ...\n",
      " [ 5693.  5633.  5626. ...  6531.  5941.  6108.]\n",
      " [36591. 36531. 36524. ... 37429. 36839. 37006.]\n",
      " [21254. 21226. 21279. ... 22330. 21851. 21988.]]\n"
     ]
    }
   ],
   "source": [
    "# Calcular viaje (distancia y tiempo en auto) entre todas las eds con tienda y las tiendas oxxo\n",
    "gmaps_distance_con_tiendas = np.zeros((len(geocode_eds_con_tienda_df), len(geocode_oxxo_df)))\n",
    "gmaps_duration_con_tiendas = np.zeros((len(geocode_eds_con_tienda_df), len(geocode_oxxo_df)))\n",
    "\n",
    "for i in range(0, len(geocode_eds_con_tienda_df)):\n",
    "    for j in range(0, len(geocode_oxxo_df)):\n",
    "\n",
    "        coord_eds = (geocode_eds_con_tienda_df.loc[i, ['nueva_latitud']].values[0], geocode_eds_con_tienda_df.loc[i, ['nueva_longitud']].values[0])\n",
    "        coord_oxxo = (geocode_oxxo_df.loc[j, ['nueva_latitud']].values[0], geocode_oxxo_df.loc[j, ['nueva_longitud']].values[0])\n",
    "\n",
    "        result = gmaps.distance_matrix(coord_eds, coord_oxxo, mode='driving')\n",
    "\n",
    "        if result[\"rows\"][0][\"elements\"][0][\"status\"] == 'OK':\n",
    "            gmaps_distance_con_tiendas[i, j] = result[\"rows\"][0][\"elements\"][0][\"distance\"][\"value\"]\n",
    "            gmaps_duration_con_tiendas[i, j] = result[\"rows\"][0][\"elements\"][0][\"duration\"][\"value\"]\n",
    "\n",
    "        else:\n",
    "            gmaps_distance_con_tiendas[i, j] = -1\n",
    "            gmaps_duration_con_tiendas[i, j] = -1\n",
    "\n",
    "print(gmaps_distance_con_tiendas, gmaps_duration_con_tiendas)"
   ],
   "metadata": {
    "collapsed": false,
    "pycharm": {
     "name": "#%%\n"
    }
   }
  },
  {
   "cell_type": "code",
   "execution_count": 10,
   "outputs": [
    {
     "name": "stdout",
     "output_type": "stream",
     "text": [
      "[[1002195. 1001746. 1001324. ... 1017327. 1014800. 1015486.]\n",
      " [1337801. 1337351. 1336930. ... 1352933. 1350405. 1351092.]\n",
      " [ 359439.  358989.  358568. ...  374571.  372044.  372730.]\n",
      " ...\n",
      " [  22421.   23633.   23627. ...   21342.   27041.   22995.]\n",
      " [ 228296.  229508.  229502. ...  247002.  246669.  245406.]\n",
      " [   3984.    3151.    3148. ...   20647.   20314.   19051.]] [[38773. 38713. 38706. ... 39611. 39021. 39188.]\n",
      " [52927. 52866. 52859. ... 53764. 53175. 53341.]\n",
      " [13774. 13714. 13707. ... 14612. 14022. 14189.]\n",
      " ...\n",
      " [ 1709.  1682.  1734. ...  2537.  2381.  2281.]\n",
      " [12255. 12227. 12280. ... 13331. 12852. 12989.]\n",
      " [ 1026.   780.   811. ...  1910.  1430.  1568.]]\n"
     ]
    }
   ],
   "source": [
    "# Calcular viaje (distancia y tiempo en auto) entre todas las eds sin tienda y las tiendas oxxo\n",
    "gmaps_distance_sin_tiendas = np.zeros((len(geocode_eds_sin_tienda_df), len(geocode_oxxo_df)))\n",
    "gmaps_duration_sin_tiendas = np.zeros((len(geocode_eds_sin_tienda_df), len(geocode_oxxo_df)))\n",
    "\n",
    "for i in range(0, len(geocode_eds_sin_tienda_df)):\n",
    "    for j in range(0, len(geocode_oxxo_df)):\n",
    "\n",
    "        coord_eds = (geocode_eds_sin_tienda_df.loc[i, ['nueva_latitud']].values[0], geocode_eds_sin_tienda_df.loc[i, ['nueva_longitud']].values[0])\n",
    "        coord_oxxo = (geocode_oxxo_df.loc[j, ['nueva_latitud']].values[0], geocode_oxxo_df.loc[j, ['nueva_longitud']].values[0])\n",
    "\n",
    "        result = gmaps.distance_matrix(coord_eds, coord_oxxo, mode='driving')\n",
    "\n",
    "        if result[\"rows\"][0][\"elements\"][0][\"status\"] == 'OK':\n",
    "            gmaps_distance_sin_tiendas[i, j] = result[\"rows\"][0][\"elements\"][0][\"distance\"][\"value\"]\n",
    "            gmaps_duration_sin_tiendas[i, j] = result[\"rows\"][0][\"elements\"][0][\"duration\"][\"value\"]\n",
    "\n",
    "        else:\n",
    "            gmaps_distance_sin_tiendas[i, j] = -1\n",
    "            gmaps_duration_sin_tiendas[i, j] = -1\n",
    "\n",
    "print(gmaps_distance_sin_tiendas, gmaps_duration_sin_tiendas)"
   ],
   "metadata": {
    "collapsed": false,
    "pycharm": {
     "name": "#%%\n"
    }
   }
  },
  {
   "cell_type": "code",
   "execution_count": 11,
   "outputs": [],
   "source": [
    "gmaps_distance_con_tienda_df = pd.DataFrame(gmaps_distance_con_tiendas)\n",
    "gmaps_distance_sin_tienda_df = pd.DataFrame(gmaps_distance_sin_tiendas)\n",
    "\n",
    "gmaps_duration_con_tienda_df = pd.DataFrame(gmaps_duration_con_tiendas)\n",
    "gmaps_duration_sin_tienda_df = pd.DataFrame(gmaps_duration_sin_tiendas)\n",
    "\n",
    "gmaps_distance_con_tienda_df.to_csv('gmaps_distance_con_tiendas.csv', sep=';', index=False)\n",
    "gmaps_distance_sin_tienda_df.to_csv('gmaps_distance_sin_tiendas.csv', sep=';', index=False)\n",
    "\n",
    "gmaps_duration_con_tienda_df.to_csv('gmaps_duration_con_tiendas.csv', sep=';', index=False)\n",
    "gmaps_duration_sin_tienda_df.to_csv('gmaps_duration_sin_tiendas.csv', sep=';', index=False)"
   ],
   "metadata": {
    "collapsed": false,
    "pycharm": {
     "name": "#%%\n"
    }
   }
  }
 ],
 "metadata": {
  "kernelspec": {
   "display_name": "Python 3",
   "language": "python",
   "name": "python3"
  },
  "language_info": {
   "codemirror_mode": {
    "name": "ipython",
    "version": 2
   },
   "file_extension": ".py",
   "mimetype": "text/x-python",
   "name": "python",
   "nbconvert_exporter": "python",
   "pygments_lexer": "ipython2",
   "version": "2.7.6"
  }
 },
 "nbformat": 4,
 "nbformat_minor": 0
}