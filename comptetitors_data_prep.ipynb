{
 "cells": [
  {
   "cell_type": "code",
   "execution_count": 1,
   "metadata": {
    "collapsed": true,
    "pycharm": {
     "name": "#%%\n"
    }
   },
   "outputs": [],
   "source": [
    "import pandas as pd\n",
    "import googlemaps"
   ]
  },
  {
   "cell_type": "code",
   "execution_count": 2,
   "outputs": [],
   "source": [
    "def get_geometry(direccion):\n",
    "\n",
    "    lat = None\n",
    "    lng = None\n",
    "\n",
    "    gcode_result = gmaps.geocode(direccion)\n",
    "    if gcode_result:\n",
    "        lat, lng = gcode_result[0]['geometry']['location']['lat'], gcode_result[0]['geometry']['location']['lng']\n",
    "    return lat, lng"
   ],
   "metadata": {
    "collapsed": false,
    "pycharm": {
     "name": "#%%\n"
    }
   }
  },
  {
   "cell_type": "code",
   "execution_count": 3,
   "outputs": [
    {
     "data": {
      "text/plain": "                                              address\n0   Bandera 177, Santiago, Región Metropolitana, C...\n1   General Mackenna 1010. Estación Metro Cal y Ca...\n2   Morandé 801, Local 102, Santiago, Región Metro...\n3   Agustinas 1454 Depto. 5, Santiago, Región Metr...\n4   Compañía de Jesús 1579, locales 4 - 5, Santiag...\n..                                                ...\n82  San Damián N°20, Local 1B, Las Condes, Región ...\n83  Av. José Alcalde Delano 10581, Local 3, Lo Bar...\n84  Avenida La Plaza 1250, Local B, Las Condes San...\n85  Av. Las Condes 12340, Lo Barnechea, Región Met...\n86  Av. Las Condes 12523, Las Condes, Región Metro...\n\n[87 rows x 1 columns]",
      "text/html": "<div>\n<style scoped>\n    .dataframe tbody tr th:only-of-type {\n        vertical-align: middle;\n    }\n\n    .dataframe tbody tr th {\n        vertical-align: top;\n    }\n\n    .dataframe thead th {\n        text-align: right;\n    }\n</style>\n<table border=\"1\" class=\"dataframe\">\n  <thead>\n    <tr style=\"text-align: right;\">\n      <th></th>\n      <th>address</th>\n    </tr>\n  </thead>\n  <tbody>\n    <tr>\n      <th>0</th>\n      <td>Bandera 177, Santiago, Región Metropolitana, C...</td>\n    </tr>\n    <tr>\n      <th>1</th>\n      <td>General Mackenna 1010. Estación Metro Cal y Ca...</td>\n    </tr>\n    <tr>\n      <th>2</th>\n      <td>Morandé 801, Local 102, Santiago, Región Metro...</td>\n    </tr>\n    <tr>\n      <th>3</th>\n      <td>Agustinas 1454 Depto. 5, Santiago, Región Metr...</td>\n    </tr>\n    <tr>\n      <th>4</th>\n      <td>Compañía de Jesús 1579, locales 4 - 5, Santiag...</td>\n    </tr>\n    <tr>\n      <th>...</th>\n      <td>...</td>\n    </tr>\n    <tr>\n      <th>82</th>\n      <td>San Damián N°20, Local 1B, Las Condes, Región ...</td>\n    </tr>\n    <tr>\n      <th>83</th>\n      <td>Av. José Alcalde Delano 10581, Local 3, Lo Bar...</td>\n    </tr>\n    <tr>\n      <th>84</th>\n      <td>Avenida La Plaza 1250, Local B, Las Condes San...</td>\n    </tr>\n    <tr>\n      <th>85</th>\n      <td>Av. Las Condes 12340, Lo Barnechea, Región Met...</td>\n    </tr>\n    <tr>\n      <th>86</th>\n      <td>Av. Las Condes 12523, Las Condes, Región Metro...</td>\n    </tr>\n  </tbody>\n</table>\n<p>87 rows × 1 columns</p>\n</div>"
     },
     "execution_count": 3,
     "metadata": {},
     "output_type": "execute_result"
    }
   ],
   "source": [
    "oxxo_df = pd.read_csv('oxxo_address.csv')\n",
    "oxxo_df"
   ],
   "metadata": {
    "collapsed": false,
    "pycharm": {
     "name": "#%%\n"
    }
   }
  },
  {
   "cell_type": "code",
   "execution_count": 4,
   "outputs": [],
   "source": [
    "import json\n",
    "\n",
    "with open('credential.json') as json_file:\n",
    "  data = json.load(json_file)\n",
    "\n",
    "key = data[\"gmaps_api_key\"]\n",
    "gmaps = googlemaps.Client(key=key)"
   ],
   "metadata": {
    "collapsed": false,
    "pycharm": {
     "name": "#%%\n"
    }
   }
  },
  {
   "cell_type": "code",
   "execution_count": 5,
   "outputs": [
    {
     "data": {
      "text/plain": "                                              address  nueva_latitud  \\\n0   Bandera 177, Santiago, Región Metropolitana, C...     -33.441155   \n1   General Mackenna 1010. Estación Metro Cal y Ca...     -33.433147   \n2   Morandé 801, Local 102, Santiago, Región Metro...     -33.433593   \n3   Agustinas 1454 Depto. 5, Santiago, Región Metr...     -33.441481   \n4   Compañía de Jesús 1579, locales 4 - 5, Santiag...     -33.439172   \n..                                                ...            ...   \n82  San Damián N°20, Local 1B, Las Condes, Región ...     -33.376485   \n83  Av. José Alcalde Delano 10581, Local 3, Lo Bar...     -33.355624   \n84  Avenida La Plaza 1250, Local B, Las Condes San...     -33.395221   \n85  Av. Las Condes 12340, Lo Barnechea, Región Met...     -33.372185   \n86  Av. Las Condes 12523, Las Condes, Región Metro...     -33.372482   \n\n    nueva_longitud  \n0       -70.652000  \n1       -70.652144  \n2       -70.654314  \n3       -70.657130  \n4       -70.659062  \n..             ...  \n82      -70.524893  \n83      -70.535139  \n84      -70.505088  \n85      -70.518382  \n86      -70.515547  \n\n[87 rows x 3 columns]",
      "text/html": "<div>\n<style scoped>\n    .dataframe tbody tr th:only-of-type {\n        vertical-align: middle;\n    }\n\n    .dataframe tbody tr th {\n        vertical-align: top;\n    }\n\n    .dataframe thead th {\n        text-align: right;\n    }\n</style>\n<table border=\"1\" class=\"dataframe\">\n  <thead>\n    <tr style=\"text-align: right;\">\n      <th></th>\n      <th>address</th>\n      <th>nueva_latitud</th>\n      <th>nueva_longitud</th>\n    </tr>\n  </thead>\n  <tbody>\n    <tr>\n      <th>0</th>\n      <td>Bandera 177, Santiago, Región Metropolitana, C...</td>\n      <td>-33.441155</td>\n      <td>-70.652000</td>\n    </tr>\n    <tr>\n      <th>1</th>\n      <td>General Mackenna 1010. Estación Metro Cal y Ca...</td>\n      <td>-33.433147</td>\n      <td>-70.652144</td>\n    </tr>\n    <tr>\n      <th>2</th>\n      <td>Morandé 801, Local 102, Santiago, Región Metro...</td>\n      <td>-33.433593</td>\n      <td>-70.654314</td>\n    </tr>\n    <tr>\n      <th>3</th>\n      <td>Agustinas 1454 Depto. 5, Santiago, Región Metr...</td>\n      <td>-33.441481</td>\n      <td>-70.657130</td>\n    </tr>\n    <tr>\n      <th>4</th>\n      <td>Compañía de Jesús 1579, locales 4 - 5, Santiag...</td>\n      <td>-33.439172</td>\n      <td>-70.659062</td>\n    </tr>\n    <tr>\n      <th>...</th>\n      <td>...</td>\n      <td>...</td>\n      <td>...</td>\n    </tr>\n    <tr>\n      <th>82</th>\n      <td>San Damián N°20, Local 1B, Las Condes, Región ...</td>\n      <td>-33.376485</td>\n      <td>-70.524893</td>\n    </tr>\n    <tr>\n      <th>83</th>\n      <td>Av. José Alcalde Delano 10581, Local 3, Lo Bar...</td>\n      <td>-33.355624</td>\n      <td>-70.535139</td>\n    </tr>\n    <tr>\n      <th>84</th>\n      <td>Avenida La Plaza 1250, Local B, Las Condes San...</td>\n      <td>-33.395221</td>\n      <td>-70.505088</td>\n    </tr>\n    <tr>\n      <th>85</th>\n      <td>Av. Las Condes 12340, Lo Barnechea, Región Met...</td>\n      <td>-33.372185</td>\n      <td>-70.518382</td>\n    </tr>\n    <tr>\n      <th>86</th>\n      <td>Av. Las Condes 12523, Las Condes, Región Metro...</td>\n      <td>-33.372482</td>\n      <td>-70.515547</td>\n    </tr>\n  </tbody>\n</table>\n<p>87 rows × 3 columns</p>\n</div>"
     },
     "execution_count": 5,
     "metadata": {},
     "output_type": "execute_result"
    }
   ],
   "source": [
    "geocode_oxxo = list(\n",
    "    oxxo_df.apply(\n",
    "        lambda x: get_geometry(\n",
    "            direccion=x['address']), axis=1))\n",
    "\n",
    "oxxo_df[['nueva_latitud', 'nueva_longitud']] = pd.DataFrame(geocode_oxxo, index=oxxo_df.index)\n",
    "oxxo_df"
   ],
   "metadata": {
    "collapsed": false,
    "pycharm": {
     "name": "#%%\n"
    }
   }
  },
  {
   "cell_type": "code",
   "execution_count": 6,
   "outputs": [],
   "source": [
    "oxxo_df.to_csv('geocode_oxxo.csv', sep=';', index=False)"
   ],
   "metadata": {
    "collapsed": false,
    "pycharm": {
     "name": "#%%\n"
    }
   }
  },
  {
   "cell_type": "code",
   "execution_count": null,
   "outputs": [],
   "source": [],
   "metadata": {
    "collapsed": false,
    "pycharm": {
     "name": "#%%\n"
    }
   }
  }
 ],
 "metadata": {
  "kernelspec": {
   "display_name": "Python 3",
   "language": "python",
   "name": "python3"
  },
  "language_info": {
   "codemirror_mode": {
    "name": "ipython",
    "version": 2
   },
   "file_extension": ".py",
   "mimetype": "text/x-python",
   "name": "python",
   "nbconvert_exporter": "python",
   "pygments_lexer": "ipython2",
   "version": "2.7.6"
  }
 },
 "nbformat": 4,
 "nbformat_minor": 0
}