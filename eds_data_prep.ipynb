{
 "cells": [
  {
   "cell_type": "code",
   "execution_count": 1,
   "metadata": {
    "collapsed": true,
    "pycharm": {
     "name": "#%%\n"
    }
   },
   "outputs": [],
   "source": [
    "import pandas as pd"
   ]
  },
  {
   "cell_type": "code",
   "execution_count": 2,
   "outputs": [],
   "source": [
    "xls_maestra_copec = pd.ExcelFile('Repositorio OFICIAL EDS NNC (1).xlsx')\n",
    "xls_nico = pd.ExcelFile('direcciones_eds.xlsx')\n",
    "\n",
    "df1 = pd.read_excel(xls_maestra_copec, 'TIENDAS')\n",
    "df2 = pd.read_excel(xls_nico, 'Sheet1')"
   ],
   "metadata": {
    "collapsed": false,
    "pycharm": {
     "name": "#%%\n"
    }
   }
  },
  {
   "cell_type": "code",
   "execution_count": 3,
   "outputs": [
    {
     "data": {
      "text/plain": "ID                                          object\nEDS                                        float64\nZona                                        object\nRazón Social                                object\nMail                                        object\nRUT                                         object\nContacto Franquiciado (teléfono)            object\nDirección                                   object\nRegión                                     float64\nProvincia                                   object\nComuna                                      object\nJefe de Zona                                object\nJefe Comercial                              object\nFecha Apertura                      datetime64[ns]\nÚltima Fecha Remodelación           datetime64[ns]\nÚltimo cambio de concesionario      datetime64[ns]\nSector cajero segregado                    float64\nCigarros                                   float64\nBaño (sí=1/no=0)                           float64\nCantidad de Baños                          float64\nATM                                        float64\nNúmero ATM                                  object\nFecha implementación MRC                    object\nVitrina Bollería Reinax                    float64\nPantallas                                  float64\nCooler Comida Vertical VV10                float64\nAccesibilidad Universal                    float64\nPatente Alcohol                            float64\nDelivery                                   float64\nTienda Clásica                             float64\nTienda Retrofit                            float64\nTienda Icónica                             float64\nTienda XL                                  float64\nTienda Punto Xpress                        float64\nTienda Kiosko                              float64\nTienda Punto XS                            float64\nStand Alone                                float64\nP100                                       float64\nIngeniero en Mantenimiento                  object\nLatitud                                    float64\nLongitud                                   float64\nConsultor                                   object\nRUT EDS                                     object\nPronto Franquicia                          float64\nFecha Cambio a Pronto               datetime64[ns]\nTIPO UBICACIÓN                              object\ndtype: object"
     },
     "execution_count": 3,
     "metadata": {},
     "output_type": "execute_result"
    }
   ],
   "source": [
    "df1.dtypes"
   ],
   "metadata": {
    "collapsed": false,
    "pycharm": {
     "name": "#%%\n"
    }
   }
  },
  {
   "cell_type": "code",
   "execution_count": 4,
   "outputs": [
    {
     "data": {
      "text/plain": "codigo_sap     int64\ncodigo_eds     int64\ntienda        object\nmarca         object\nformato       object\nmercado       object\nregion        object\ncomuna        object\ndireccion     object\ndtype: object"
     },
     "execution_count": 4,
     "metadata": {},
     "output_type": "execute_result"
    }
   ],
   "source": [
    "df2.dtypes"
   ],
   "metadata": {
    "collapsed": false,
    "pycharm": {
     "name": "#%%\n"
    }
   }
  },
  {
   "cell_type": "code",
   "execution_count": 5,
   "outputs": [],
   "source": [
    "# Seleccionar columnas relevantes\n",
    "\n",
    "relevant_columns_maestra = ['EDS', 'Zona', 'Dirección', 'Región', 'Provincia', 'Comuna', 'Fecha Apertura', 'Latitud', 'Longitud']\n",
    "relevant_columns_nico = ['codigo_sap', 'codigo_eds', 'tienda', 'marca', 'formato', 'mercado', 'direccion', 'comuna', 'region']\n",
    "\n",
    "geo_eds_maestra_df = df1[relevant_columns_maestra].copy()\n",
    "geo_eds_nico_df = df2[relevant_columns_nico].copy()"
   ],
   "metadata": {
    "collapsed": false,
    "pycharm": {
     "name": "#%%\n"
    }
   }
  },
  {
   "cell_type": "code",
   "execution_count": 6,
   "outputs": [
    {
     "data": {
      "text/plain": "       EDS Zona                       Dirección  Región   Provincia  \\\n0    60108   OS                    LOTA N° 2864    13.0    SANTIAGO   \n1    60701   OS               APOQUINDO N° 7520    13.0    SANTIAGO   \n2    60968   OS              SANTA ROSA N° 9468    13.0    SANTIAGO   \n3    10104  OZN        PANAMERICANA SUR N° 2824    15.0       ARICA   \n4    10282  OZN        ABAROA, ESQ. LATORRE S/N     2.0      EL LOA   \n..     ...  ...                             ...     ...         ...   \n338  60283   OS      Av. 5 de Abril 1310, Maipú    13.0    SANTIAGO   \n339  20840  OZS  Av. Latorre 750, Tome, bío bío     8.0  CONCEPCIÓN   \n340  27590   OS                             NaN    13.0    SANTIAGO   \n341  60109   OS        AV. ANDRES BELLO N° 2722    13.0    SANTIAGO   \n342  20475  OZS    CAMINO CHILLÁN A PINTO KM 24     7.0     CHILLÁN   \n\n          Comuna Fecha Apertura       Latitud      Longitud  \n0    PROVIDENCIA     2000-01-01 -3.342149e+14 -7.059745e+14  \n1     LAS CONDES     2000-01-01 -3.340808e+14 -7.055125e+14  \n2      LA GRANJA     2000-01-01 -3.354728e+14 -7.063297e+14  \n3          ARICA     2001-01-01 -1.849355e+14 -7.028921e+14  \n4         CALAMA     2001-01-01 -2.246759e+14 -6.892565e+14  \n..           ...            ...           ...           ...  \n338        MAIPÚ     2022-07-04           NaN           NaN  \n339         TOMÉ     2022-07-05           NaN           NaN  \n340  PUENTE ALTO     2022-07-25           NaN           NaN  \n341   LAS CONDES     2004-01-01 -3.341380e+14 -7.060449e+14  \n342        PINTO     2022-01-11           NaN           NaN  \n\n[343 rows x 9 columns]",
      "text/html": "<div>\n<style scoped>\n    .dataframe tbody tr th:only-of-type {\n        vertical-align: middle;\n    }\n\n    .dataframe tbody tr th {\n        vertical-align: top;\n    }\n\n    .dataframe thead th {\n        text-align: right;\n    }\n</style>\n<table border=\"1\" class=\"dataframe\">\n  <thead>\n    <tr style=\"text-align: right;\">\n      <th></th>\n      <th>EDS</th>\n      <th>Zona</th>\n      <th>Dirección</th>\n      <th>Región</th>\n      <th>Provincia</th>\n      <th>Comuna</th>\n      <th>Fecha Apertura</th>\n      <th>Latitud</th>\n      <th>Longitud</th>\n    </tr>\n  </thead>\n  <tbody>\n    <tr>\n      <th>0</th>\n      <td>60108</td>\n      <td>OS</td>\n      <td>LOTA N° 2864</td>\n      <td>13.0</td>\n      <td>SANTIAGO</td>\n      <td>PROVIDENCIA</td>\n      <td>2000-01-01</td>\n      <td>-3.342149e+14</td>\n      <td>-7.059745e+14</td>\n    </tr>\n    <tr>\n      <th>1</th>\n      <td>60701</td>\n      <td>OS</td>\n      <td>APOQUINDO N° 7520</td>\n      <td>13.0</td>\n      <td>SANTIAGO</td>\n      <td>LAS CONDES</td>\n      <td>2000-01-01</td>\n      <td>-3.340808e+14</td>\n      <td>-7.055125e+14</td>\n    </tr>\n    <tr>\n      <th>2</th>\n      <td>60968</td>\n      <td>OS</td>\n      <td>SANTA ROSA N° 9468</td>\n      <td>13.0</td>\n      <td>SANTIAGO</td>\n      <td>LA GRANJA</td>\n      <td>2000-01-01</td>\n      <td>-3.354728e+14</td>\n      <td>-7.063297e+14</td>\n    </tr>\n    <tr>\n      <th>3</th>\n      <td>10104</td>\n      <td>OZN</td>\n      <td>PANAMERICANA SUR N° 2824</td>\n      <td>15.0</td>\n      <td>ARICA</td>\n      <td>ARICA</td>\n      <td>2001-01-01</td>\n      <td>-1.849355e+14</td>\n      <td>-7.028921e+14</td>\n    </tr>\n    <tr>\n      <th>4</th>\n      <td>10282</td>\n      <td>OZN</td>\n      <td>ABAROA, ESQ. LATORRE S/N</td>\n      <td>2.0</td>\n      <td>EL LOA</td>\n      <td>CALAMA</td>\n      <td>2001-01-01</td>\n      <td>-2.246759e+14</td>\n      <td>-6.892565e+14</td>\n    </tr>\n    <tr>\n      <th>...</th>\n      <td>...</td>\n      <td>...</td>\n      <td>...</td>\n      <td>...</td>\n      <td>...</td>\n      <td>...</td>\n      <td>...</td>\n      <td>...</td>\n      <td>...</td>\n    </tr>\n    <tr>\n      <th>338</th>\n      <td>60283</td>\n      <td>OS</td>\n      <td>Av. 5 de Abril 1310, Maipú</td>\n      <td>13.0</td>\n      <td>SANTIAGO</td>\n      <td>MAIPÚ</td>\n      <td>2022-07-04</td>\n      <td>NaN</td>\n      <td>NaN</td>\n    </tr>\n    <tr>\n      <th>339</th>\n      <td>20840</td>\n      <td>OZS</td>\n      <td>Av. Latorre 750, Tome, bío bío</td>\n      <td>8.0</td>\n      <td>CONCEPCIÓN</td>\n      <td>TOMÉ</td>\n      <td>2022-07-05</td>\n      <td>NaN</td>\n      <td>NaN</td>\n    </tr>\n    <tr>\n      <th>340</th>\n      <td>27590</td>\n      <td>OS</td>\n      <td>NaN</td>\n      <td>13.0</td>\n      <td>SANTIAGO</td>\n      <td>PUENTE ALTO</td>\n      <td>2022-07-25</td>\n      <td>NaN</td>\n      <td>NaN</td>\n    </tr>\n    <tr>\n      <th>341</th>\n      <td>60109</td>\n      <td>OS</td>\n      <td>AV. ANDRES BELLO N° 2722</td>\n      <td>13.0</td>\n      <td>SANTIAGO</td>\n      <td>LAS CONDES</td>\n      <td>2004-01-01</td>\n      <td>-3.341380e+14</td>\n      <td>-7.060449e+14</td>\n    </tr>\n    <tr>\n      <th>342</th>\n      <td>20475</td>\n      <td>OZS</td>\n      <td>CAMINO CHILLÁN A PINTO KM 24</td>\n      <td>7.0</td>\n      <td>CHILLÁN</td>\n      <td>PINTO</td>\n      <td>2022-01-11</td>\n      <td>NaN</td>\n      <td>NaN</td>\n    </tr>\n  </tbody>\n</table>\n<p>343 rows × 9 columns</p>\n</div>"
     },
     "execution_count": 6,
     "metadata": {},
     "output_type": "execute_result"
    }
   ],
   "source": [
    "geo_eds_maestra_df.dropna(axis=0, subset=['EDS'], inplace=True)\n",
    "geo_eds_maestra_df.reset_index(drop=True, inplace=True)\n",
    "geo_eds_maestra_df['EDS'] = geo_eds_maestra_df['EDS'].astype('int')\n",
    "geo_eds_maestra_df"
   ],
   "metadata": {
    "collapsed": false,
    "pycharm": {
     "name": "#%%\n"
    }
   }
  },
  {
   "cell_type": "code",
   "execution_count": 7,
   "outputs": [
    {
     "data": {
      "text/plain": "     codigo_sap  codigo_eds              tienda           marca formato  \\\n0          2009       10096        Pozo Almonte          Pronto   Barra   \n1          2013       20012  San Rafael Oriente          Pronto   Barra   \n2          2012       20017  San Carlos Oriente          Pronto   Barra   \n3          2056       20089        Puerto Varas          Pronto   Barra   \n4          2055       20091     Trafún Poniente          Pronto   Barra   \n..          ...         ...                 ...             ...     ...   \n675          -1       60758                   -  EDS Sin Tienda       -   \n676          -1       60824                   -  EDS Sin Tienda       -   \n677          -1       60838                   -  EDS Sin Tienda       -   \n678          -1       60999                   -  EDS Sin Tienda       -   \n679          -1       60999                   -  EDS Sin Tienda       -   \n\n       mercado                                     direccion         comuna  \\\n0    Carretera                    Panamericana norte km 1810   Pozo Almonte   \n1    Carretera                             RUTA 5 SUR KM 237     San Rafael   \n2    Carretera                           RUTA 5 SUR KM 383,3     San Carlos   \n3    Carretera                         RUTA 5 SUR KM 1009,4.   Puerto Varas   \n4    Carretera                  RUTA 5 SUR KM. 904,3 TRAFUN.      San Pablo   \n..         ...                                           ...            ...   \n675          -  CARDENAL CARO S/N ESQ. OBISPO LARRAÍN N° 792       LITUECHE   \n676          -                        AV. LA FLORIDA N° 7165     LA FLORIDA   \n677          -                      CAMINO A PICHILEMU KM 65      PERALILLO   \n678          -                     AV. INDEPENDENCIA N° 1517  INDEPENDENCIA   \n679          -                      AV. INDEPENDENCIA Nº1517  INDEPENDENCIA   \n\n            region  EDS Zona Dirección  Región Provincia Comuna  \\\n0         Tarapacá  NaN  NaN       NaN     NaN       NaN    NaN   \n1            Maule  NaN  NaN       NaN     NaN       NaN    NaN   \n2            Ñuble  NaN  NaN       NaN     NaN       NaN    NaN   \n3        Los Lagos  NaN  NaN       NaN     NaN       NaN    NaN   \n4        Los Lagos  NaN  NaN       NaN     NaN       NaN    NaN   \n..             ...  ...  ...       ...     ...       ...    ...   \n675      O HIGGINS  NaN  NaN       NaN     NaN       NaN    NaN   \n676  METROPOLITANA  NaN  NaN       NaN     NaN       NaN    NaN   \n677      O HIGGINS  NaN  NaN       NaN     NaN       NaN    NaN   \n678  METROPOLITANA  NaN  NaN       NaN     NaN       NaN    NaN   \n679            NaN  NaN  NaN       NaN     NaN       NaN    NaN   \n\n    Fecha Apertura  Latitud  Longitud  \n0              NaT      NaN       NaN  \n1              NaT      NaN       NaN  \n2              NaT      NaN       NaN  \n3              NaT      NaN       NaN  \n4              NaT      NaN       NaN  \n..             ...      ...       ...  \n675            NaT      NaN       NaN  \n676            NaT      NaN       NaN  \n677            NaT      NaN       NaN  \n678            NaT      NaN       NaN  \n679            NaT      NaN       NaN  \n\n[680 rows x 18 columns]",
      "text/html": "<div>\n<style scoped>\n    .dataframe tbody tr th:only-of-type {\n        vertical-align: middle;\n    }\n\n    .dataframe tbody tr th {\n        vertical-align: top;\n    }\n\n    .dataframe thead th {\n        text-align: right;\n    }\n</style>\n<table border=\"1\" class=\"dataframe\">\n  <thead>\n    <tr style=\"text-align: right;\">\n      <th></th>\n      <th>codigo_sap</th>\n      <th>codigo_eds</th>\n      <th>tienda</th>\n      <th>marca</th>\n      <th>formato</th>\n      <th>mercado</th>\n      <th>direccion</th>\n      <th>comuna</th>\n      <th>region</th>\n      <th>EDS</th>\n      <th>Zona</th>\n      <th>Dirección</th>\n      <th>Región</th>\n      <th>Provincia</th>\n      <th>Comuna</th>\n      <th>Fecha Apertura</th>\n      <th>Latitud</th>\n      <th>Longitud</th>\n    </tr>\n  </thead>\n  <tbody>\n    <tr>\n      <th>0</th>\n      <td>2009</td>\n      <td>10096</td>\n      <td>Pozo Almonte</td>\n      <td>Pronto</td>\n      <td>Barra</td>\n      <td>Carretera</td>\n      <td>Panamericana norte km 1810</td>\n      <td>Pozo Almonte</td>\n      <td>Tarapacá</td>\n      <td>NaN</td>\n      <td>NaN</td>\n      <td>NaN</td>\n      <td>NaN</td>\n      <td>NaN</td>\n      <td>NaN</td>\n      <td>NaT</td>\n      <td>NaN</td>\n      <td>NaN</td>\n    </tr>\n    <tr>\n      <th>1</th>\n      <td>2013</td>\n      <td>20012</td>\n      <td>San Rafael Oriente</td>\n      <td>Pronto</td>\n      <td>Barra</td>\n      <td>Carretera</td>\n      <td>RUTA 5 SUR KM 237</td>\n      <td>San Rafael</td>\n      <td>Maule</td>\n      <td>NaN</td>\n      <td>NaN</td>\n      <td>NaN</td>\n      <td>NaN</td>\n      <td>NaN</td>\n      <td>NaN</td>\n      <td>NaT</td>\n      <td>NaN</td>\n      <td>NaN</td>\n    </tr>\n    <tr>\n      <th>2</th>\n      <td>2012</td>\n      <td>20017</td>\n      <td>San Carlos Oriente</td>\n      <td>Pronto</td>\n      <td>Barra</td>\n      <td>Carretera</td>\n      <td>RUTA 5 SUR KM 383,3</td>\n      <td>San Carlos</td>\n      <td>Ñuble</td>\n      <td>NaN</td>\n      <td>NaN</td>\n      <td>NaN</td>\n      <td>NaN</td>\n      <td>NaN</td>\n      <td>NaN</td>\n      <td>NaT</td>\n      <td>NaN</td>\n      <td>NaN</td>\n    </tr>\n    <tr>\n      <th>3</th>\n      <td>2056</td>\n      <td>20089</td>\n      <td>Puerto Varas</td>\n      <td>Pronto</td>\n      <td>Barra</td>\n      <td>Carretera</td>\n      <td>RUTA 5 SUR KM 1009,4.</td>\n      <td>Puerto Varas</td>\n      <td>Los Lagos</td>\n      <td>NaN</td>\n      <td>NaN</td>\n      <td>NaN</td>\n      <td>NaN</td>\n      <td>NaN</td>\n      <td>NaN</td>\n      <td>NaT</td>\n      <td>NaN</td>\n      <td>NaN</td>\n    </tr>\n    <tr>\n      <th>4</th>\n      <td>2055</td>\n      <td>20091</td>\n      <td>Trafún Poniente</td>\n      <td>Pronto</td>\n      <td>Barra</td>\n      <td>Carretera</td>\n      <td>RUTA 5 SUR KM. 904,3 TRAFUN.</td>\n      <td>San Pablo</td>\n      <td>Los Lagos</td>\n      <td>NaN</td>\n      <td>NaN</td>\n      <td>NaN</td>\n      <td>NaN</td>\n      <td>NaN</td>\n      <td>NaN</td>\n      <td>NaT</td>\n      <td>NaN</td>\n      <td>NaN</td>\n    </tr>\n    <tr>\n      <th>...</th>\n      <td>...</td>\n      <td>...</td>\n      <td>...</td>\n      <td>...</td>\n      <td>...</td>\n      <td>...</td>\n      <td>...</td>\n      <td>...</td>\n      <td>...</td>\n      <td>...</td>\n      <td>...</td>\n      <td>...</td>\n      <td>...</td>\n      <td>...</td>\n      <td>...</td>\n      <td>...</td>\n      <td>...</td>\n      <td>...</td>\n    </tr>\n    <tr>\n      <th>675</th>\n      <td>-1</td>\n      <td>60758</td>\n      <td>-</td>\n      <td>EDS Sin Tienda</td>\n      <td>-</td>\n      <td>-</td>\n      <td>CARDENAL CARO S/N ESQ. OBISPO LARRAÍN N° 792</td>\n      <td>LITUECHE</td>\n      <td>O HIGGINS</td>\n      <td>NaN</td>\n      <td>NaN</td>\n      <td>NaN</td>\n      <td>NaN</td>\n      <td>NaN</td>\n      <td>NaN</td>\n      <td>NaT</td>\n      <td>NaN</td>\n      <td>NaN</td>\n    </tr>\n    <tr>\n      <th>676</th>\n      <td>-1</td>\n      <td>60824</td>\n      <td>-</td>\n      <td>EDS Sin Tienda</td>\n      <td>-</td>\n      <td>-</td>\n      <td>AV. LA FLORIDA N° 7165</td>\n      <td>LA FLORIDA</td>\n      <td>METROPOLITANA</td>\n      <td>NaN</td>\n      <td>NaN</td>\n      <td>NaN</td>\n      <td>NaN</td>\n      <td>NaN</td>\n      <td>NaN</td>\n      <td>NaT</td>\n      <td>NaN</td>\n      <td>NaN</td>\n    </tr>\n    <tr>\n      <th>677</th>\n      <td>-1</td>\n      <td>60838</td>\n      <td>-</td>\n      <td>EDS Sin Tienda</td>\n      <td>-</td>\n      <td>-</td>\n      <td>CAMINO A PICHILEMU KM 65</td>\n      <td>PERALILLO</td>\n      <td>O HIGGINS</td>\n      <td>NaN</td>\n      <td>NaN</td>\n      <td>NaN</td>\n      <td>NaN</td>\n      <td>NaN</td>\n      <td>NaN</td>\n      <td>NaT</td>\n      <td>NaN</td>\n      <td>NaN</td>\n    </tr>\n    <tr>\n      <th>678</th>\n      <td>-1</td>\n      <td>60999</td>\n      <td>-</td>\n      <td>EDS Sin Tienda</td>\n      <td>-</td>\n      <td>-</td>\n      <td>AV. INDEPENDENCIA N° 1517</td>\n      <td>INDEPENDENCIA</td>\n      <td>METROPOLITANA</td>\n      <td>NaN</td>\n      <td>NaN</td>\n      <td>NaN</td>\n      <td>NaN</td>\n      <td>NaN</td>\n      <td>NaN</td>\n      <td>NaT</td>\n      <td>NaN</td>\n      <td>NaN</td>\n    </tr>\n    <tr>\n      <th>679</th>\n      <td>-1</td>\n      <td>60999</td>\n      <td>-</td>\n      <td>EDS Sin Tienda</td>\n      <td>-</td>\n      <td>-</td>\n      <td>AV. INDEPENDENCIA Nº1517</td>\n      <td>INDEPENDENCIA</td>\n      <td>NaN</td>\n      <td>NaN</td>\n      <td>NaN</td>\n      <td>NaN</td>\n      <td>NaN</td>\n      <td>NaN</td>\n      <td>NaN</td>\n      <td>NaT</td>\n      <td>NaN</td>\n      <td>NaN</td>\n    </tr>\n  </tbody>\n</table>\n<p>680 rows × 18 columns</p>\n</div>"
     },
     "execution_count": 7,
     "metadata": {},
     "output_type": "execute_result"
    }
   ],
   "source": [
    "geo_eds_df = geo_eds_nico_df.merge(geo_eds_maestra_df, how='left', left_on='codigo_eds', right_on='EDS').drop_duplicates()\n",
    "geo_eds_df"
   ],
   "metadata": {
    "collapsed": false,
    "pycharm": {
     "name": "#%%\n"
    }
   }
  },
  {
   "cell_type": "code",
   "execution_count": 8,
   "outputs": [],
   "source": [
    "eds_sin_tienda_df = geo_eds_df.loc[geo_eds_df['marca'] == 'EDS Sin Tienda', :].copy()\n",
    "eds_con_tienda_df = geo_eds_df.loc[geo_eds_df['marca'] != 'EDS Sin Tienda', :].copy()"
   ],
   "metadata": {
    "collapsed": false,
    "pycharm": {
     "name": "#%%\n"
    }
   }
  },
  {
   "cell_type": "code",
   "execution_count": 9,
   "outputs": [
    {
     "data": {
      "text/plain": "     codigo_sap  codigo_eds tienda           marca formato mercado  \\\n414          -1       10005      -  EDS Sin Tienda       -       -   \n415          -1       10009      -  EDS Sin Tienda       -       -   \n416          -1       10025      -  EDS Sin Tienda       -       -   \n417          -1       10040      -  EDS Sin Tienda       -       -   \n418          -1       10194      -  EDS Sin Tienda       -       -   \n..          ...         ...    ...             ...     ...     ...   \n674          -1       60561      -  EDS Sin Tienda       -       -   \n675          -1       60758      -  EDS Sin Tienda       -       -   \n676          -1       60824      -  EDS Sin Tienda       -       -   \n677          -1       60838      -  EDS Sin Tienda       -       -   \n678          -1       60999      -  EDS Sin Tienda       -       -   \n\n                                        direccion            comuna  \\\n414                            AV. EL TOFO N° 043  DIEGO DE ALMAGRO   \n415             AV. MEJILLONES 4950, ESQ. ILLAPEL       ANTOFAGASTA   \n416                          RUTA 5 NORTE KM 1398       ANTOFAGASTA   \n417                             SAN MARTIN N° 699             ARICA   \n418                        PANAMERICANA NORTE S/N      SIERRA GORDA   \n..                                            ...               ...   \n674                  30 KM AL NORESTE DE RANCAGUA           MACHALÍ   \n675  CARDENAL CARO S/N ESQ. OBISPO LARRAÍN N° 792          LITUECHE   \n676                        AV. LA FLORIDA N° 7165        LA FLORIDA   \n677                      CAMINO A PICHILEMU KM 65         PERALILLO   \n678                     AV. INDEPENDENCIA N° 1517     INDEPENDENCIA   \n\n                 region  EDS Zona Dirección  Región Provincia Comuna  \\\n414             ATACAMA  NaN  NaN       NaN     NaN       NaN    NaN   \n415         ANTOFAGASTA  NaN  NaN       NaN     NaN       NaN    NaN   \n416         ANTOFAGASTA  NaN  NaN       NaN     NaN       NaN    NaN   \n417  ARICA Y PARINACOTA  NaN  NaN       NaN     NaN       NaN    NaN   \n418         ANTOFAGASTA  NaN  NaN       NaN     NaN       NaN    NaN   \n..                  ...  ...  ...       ...     ...       ...    ...   \n674           O HIGGINS  NaN  NaN       NaN     NaN       NaN    NaN   \n675           O HIGGINS  NaN  NaN       NaN     NaN       NaN    NaN   \n676       METROPOLITANA  NaN  NaN       NaN     NaN       NaN    NaN   \n677           O HIGGINS  NaN  NaN       NaN     NaN       NaN    NaN   \n678       METROPOLITANA  NaN  NaN       NaN     NaN       NaN    NaN   \n\n    Fecha Apertura  Latitud  Longitud  \n414            NaT      0.0       0.0  \n415            NaT      0.0       0.0  \n416            NaT      0.0       0.0  \n417            NaT      0.0       0.0  \n418            NaT      0.0       0.0  \n..             ...      ...       ...  \n674            NaT      0.0       0.0  \n675            NaT      0.0       0.0  \n676            NaT      0.0       0.0  \n677            NaT      0.0       0.0  \n678            NaT      0.0       0.0  \n\n[265 rows x 18 columns]",
      "text/html": "<div>\n<style scoped>\n    .dataframe tbody tr th:only-of-type {\n        vertical-align: middle;\n    }\n\n    .dataframe tbody tr th {\n        vertical-align: top;\n    }\n\n    .dataframe thead th {\n        text-align: right;\n    }\n</style>\n<table border=\"1\" class=\"dataframe\">\n  <thead>\n    <tr style=\"text-align: right;\">\n      <th></th>\n      <th>codigo_sap</th>\n      <th>codigo_eds</th>\n      <th>tienda</th>\n      <th>marca</th>\n      <th>formato</th>\n      <th>mercado</th>\n      <th>direccion</th>\n      <th>comuna</th>\n      <th>region</th>\n      <th>EDS</th>\n      <th>Zona</th>\n      <th>Dirección</th>\n      <th>Región</th>\n      <th>Provincia</th>\n      <th>Comuna</th>\n      <th>Fecha Apertura</th>\n      <th>Latitud</th>\n      <th>Longitud</th>\n    </tr>\n  </thead>\n  <tbody>\n    <tr>\n      <th>414</th>\n      <td>-1</td>\n      <td>10005</td>\n      <td>-</td>\n      <td>EDS Sin Tienda</td>\n      <td>-</td>\n      <td>-</td>\n      <td>AV. EL TOFO N° 043</td>\n      <td>DIEGO DE ALMAGRO</td>\n      <td>ATACAMA</td>\n      <td>NaN</td>\n      <td>NaN</td>\n      <td>NaN</td>\n      <td>NaN</td>\n      <td>NaN</td>\n      <td>NaN</td>\n      <td>NaT</td>\n      <td>0.0</td>\n      <td>0.0</td>\n    </tr>\n    <tr>\n      <th>415</th>\n      <td>-1</td>\n      <td>10009</td>\n      <td>-</td>\n      <td>EDS Sin Tienda</td>\n      <td>-</td>\n      <td>-</td>\n      <td>AV. MEJILLONES 4950, ESQ. ILLAPEL</td>\n      <td>ANTOFAGASTA</td>\n      <td>ANTOFAGASTA</td>\n      <td>NaN</td>\n      <td>NaN</td>\n      <td>NaN</td>\n      <td>NaN</td>\n      <td>NaN</td>\n      <td>NaN</td>\n      <td>NaT</td>\n      <td>0.0</td>\n      <td>0.0</td>\n    </tr>\n    <tr>\n      <th>416</th>\n      <td>-1</td>\n      <td>10025</td>\n      <td>-</td>\n      <td>EDS Sin Tienda</td>\n      <td>-</td>\n      <td>-</td>\n      <td>RUTA 5 NORTE KM 1398</td>\n      <td>ANTOFAGASTA</td>\n      <td>ANTOFAGASTA</td>\n      <td>NaN</td>\n      <td>NaN</td>\n      <td>NaN</td>\n      <td>NaN</td>\n      <td>NaN</td>\n      <td>NaN</td>\n      <td>NaT</td>\n      <td>0.0</td>\n      <td>0.0</td>\n    </tr>\n    <tr>\n      <th>417</th>\n      <td>-1</td>\n      <td>10040</td>\n      <td>-</td>\n      <td>EDS Sin Tienda</td>\n      <td>-</td>\n      <td>-</td>\n      <td>SAN MARTIN N° 699</td>\n      <td>ARICA</td>\n      <td>ARICA Y PARINACOTA</td>\n      <td>NaN</td>\n      <td>NaN</td>\n      <td>NaN</td>\n      <td>NaN</td>\n      <td>NaN</td>\n      <td>NaN</td>\n      <td>NaT</td>\n      <td>0.0</td>\n      <td>0.0</td>\n    </tr>\n    <tr>\n      <th>418</th>\n      <td>-1</td>\n      <td>10194</td>\n      <td>-</td>\n      <td>EDS Sin Tienda</td>\n      <td>-</td>\n      <td>-</td>\n      <td>PANAMERICANA NORTE S/N</td>\n      <td>SIERRA GORDA</td>\n      <td>ANTOFAGASTA</td>\n      <td>NaN</td>\n      <td>NaN</td>\n      <td>NaN</td>\n      <td>NaN</td>\n      <td>NaN</td>\n      <td>NaN</td>\n      <td>NaT</td>\n      <td>0.0</td>\n      <td>0.0</td>\n    </tr>\n    <tr>\n      <th>...</th>\n      <td>...</td>\n      <td>...</td>\n      <td>...</td>\n      <td>...</td>\n      <td>...</td>\n      <td>...</td>\n      <td>...</td>\n      <td>...</td>\n      <td>...</td>\n      <td>...</td>\n      <td>...</td>\n      <td>...</td>\n      <td>...</td>\n      <td>...</td>\n      <td>...</td>\n      <td>...</td>\n      <td>...</td>\n      <td>...</td>\n    </tr>\n    <tr>\n      <th>674</th>\n      <td>-1</td>\n      <td>60561</td>\n      <td>-</td>\n      <td>EDS Sin Tienda</td>\n      <td>-</td>\n      <td>-</td>\n      <td>30 KM AL NORESTE DE RANCAGUA</td>\n      <td>MACHALÍ</td>\n      <td>O HIGGINS</td>\n      <td>NaN</td>\n      <td>NaN</td>\n      <td>NaN</td>\n      <td>NaN</td>\n      <td>NaN</td>\n      <td>NaN</td>\n      <td>NaT</td>\n      <td>0.0</td>\n      <td>0.0</td>\n    </tr>\n    <tr>\n      <th>675</th>\n      <td>-1</td>\n      <td>60758</td>\n      <td>-</td>\n      <td>EDS Sin Tienda</td>\n      <td>-</td>\n      <td>-</td>\n      <td>CARDENAL CARO S/N ESQ. OBISPO LARRAÍN N° 792</td>\n      <td>LITUECHE</td>\n      <td>O HIGGINS</td>\n      <td>NaN</td>\n      <td>NaN</td>\n      <td>NaN</td>\n      <td>NaN</td>\n      <td>NaN</td>\n      <td>NaN</td>\n      <td>NaT</td>\n      <td>0.0</td>\n      <td>0.0</td>\n    </tr>\n    <tr>\n      <th>676</th>\n      <td>-1</td>\n      <td>60824</td>\n      <td>-</td>\n      <td>EDS Sin Tienda</td>\n      <td>-</td>\n      <td>-</td>\n      <td>AV. LA FLORIDA N° 7165</td>\n      <td>LA FLORIDA</td>\n      <td>METROPOLITANA</td>\n      <td>NaN</td>\n      <td>NaN</td>\n      <td>NaN</td>\n      <td>NaN</td>\n      <td>NaN</td>\n      <td>NaN</td>\n      <td>NaT</td>\n      <td>0.0</td>\n      <td>0.0</td>\n    </tr>\n    <tr>\n      <th>677</th>\n      <td>-1</td>\n      <td>60838</td>\n      <td>-</td>\n      <td>EDS Sin Tienda</td>\n      <td>-</td>\n      <td>-</td>\n      <td>CAMINO A PICHILEMU KM 65</td>\n      <td>PERALILLO</td>\n      <td>O HIGGINS</td>\n      <td>NaN</td>\n      <td>NaN</td>\n      <td>NaN</td>\n      <td>NaN</td>\n      <td>NaN</td>\n      <td>NaN</td>\n      <td>NaT</td>\n      <td>0.0</td>\n      <td>0.0</td>\n    </tr>\n    <tr>\n      <th>678</th>\n      <td>-1</td>\n      <td>60999</td>\n      <td>-</td>\n      <td>EDS Sin Tienda</td>\n      <td>-</td>\n      <td>-</td>\n      <td>AV. INDEPENDENCIA N° 1517</td>\n      <td>INDEPENDENCIA</td>\n      <td>METROPOLITANA</td>\n      <td>NaN</td>\n      <td>NaN</td>\n      <td>NaN</td>\n      <td>NaN</td>\n      <td>NaN</td>\n      <td>NaN</td>\n      <td>NaT</td>\n      <td>0.0</td>\n      <td>0.0</td>\n    </tr>\n  </tbody>\n</table>\n<p>265 rows × 18 columns</p>\n</div>"
     },
     "execution_count": 9,
     "metadata": {},
     "output_type": "execute_result"
    }
   ],
   "source": [
    "# Completar con 0 las latitudes y longitudes nulas\n",
    "eds_sin_tienda_df['Latitud'] = eds_sin_tienda_df['Latitud'].fillna(0.0).astype('float')\n",
    "eds_sin_tienda_df['Longitud'] = eds_sin_tienda_df['Longitud'].fillna(0.0).astype('float')\n",
    "\n",
    "# Eliminar los registros sin dirección\n",
    "eds_sin_tienda_df.dropna(axis=0, inplace=True, subset=['Dirección', 'direccion'], how='all')\n",
    "\n",
    "# Eliminar registros duplicados\n",
    "eds_sin_tienda_df.drop_duplicates(subset=['codigo_eds'], inplace=True)\n",
    "\n",
    "eds_sin_tienda_df"
   ],
   "metadata": {
    "collapsed": false,
    "pycharm": {
     "name": "#%%\n"
    }
   }
  },
  {
   "cell_type": "code",
   "execution_count": 10,
   "outputs": [
    {
     "data": {
      "text/plain": "     codigo_sap  codigo_eds                 tienda   marca      formato  \\\n0          2009       10096           Pozo Almonte  Pronto        Barra   \n1          2013       20012     San Rafael Oriente  Pronto        Barra   \n2          2012       20017     San Carlos Oriente  Pronto        Barra   \n3          2056       20089           Puerto Varas  Pronto        Barra   \n4          2055       20091        Trafún Poniente  Pronto        Barra   \n..          ...         ...                    ...     ...          ...   \n409          -1       10436  AVDA. 27 DE ABRIL S/N   PUNTO    Foodtruck   \n410          -1       40183      La Serena Ruta 41   PUNTO  Punto Copec   \n411          -1       40188                  Olmué   PUNTO  Punto Copec   \n412          -1       10617       ANIBAL PINTO 400   PUNTO     Punto AP   \n413          -1       20011                Coronel   PUNTO  Punto Copec   \n\n       mercado                     direccion            comuna      region  \\\n0    Carretera    Panamericana norte km 1810      Pozo Almonte    Tarapacá   \n1    Carretera             RUTA 5 SUR KM 237        San Rafael       Maule   \n2    Carretera           RUTA 5 SUR KM 383,3        San Carlos       Ñuble   \n3    Carretera         RUTA 5 SUR KM 1009,4.      Puerto Varas   Los Lagos   \n4    Carretera  RUTA 5 SUR KM. 904,3 TRAFUN.         San Pablo   Los Lagos   \n..         ...                           ...               ...         ...   \n409     Urbana           AV. 27 DE ABRIL S/N              PICA    TARAPACA   \n410     Urbana              COLO COLO N°5300         LA SERENA    COQUIMBO   \n411     Urbana        AV ADOLFO EASTMAN 2603             OLMUÉ  VALPARAISO   \n412     Urbana                 Punto Iquique  DIEGO DE ALMAGRO     ATACAMA   \n413     Urbana                SOTOMAYOR 1300           CORONEL      BIOBIO   \n\n         EDS Zona                Dirección  Región   Provincia     Comuna  \\\n0        NaN  NaN                      NaN     NaN         NaN        NaN   \n1        NaN  NaN                      NaN     NaN         NaN        NaN   \n2        NaN  NaN                      NaN     NaN         NaN        NaN   \n3        NaN  NaN                      NaN     NaN         NaN        NaN   \n4        NaN  NaN                      NaN     NaN         NaN        NaN   \n..       ...  ...                      ...     ...         ...        ...   \n409  10436.0  OZN      AV. 27 DE ABRIL S/N     1.0    TARAPACÁ       PICA   \n410  40183.0  OZC         COLO COLO N°5300     4.0   LA SERENA  LA SERENA   \n411  40188.0  OZC  AV. ADOLFO EASTMAN 2603     5.0  VALPARAÍSO      OLMUE   \n412      NaN  NaN                      NaN     NaN         NaN        NaN   \n413  20011.0  OZS       AV. SOTOMAYOR 1300     8.0  CONCEPCIÓN    CORONEL   \n\n    Fecha Apertura  Latitud  Longitud  \n0              NaT      0.0       0.0  \n1              NaT      0.0       0.0  \n2              NaT      0.0       0.0  \n3              NaT      0.0       0.0  \n4              NaT      0.0       0.0  \n..             ...      ...       ...  \n409     2021-06-10      0.0       0.0  \n410     2021-07-01      0.0       0.0  \n411     2021-07-08      0.0       0.0  \n412            NaT      0.0       0.0  \n413     2021-08-18      0.0       0.0  \n\n[413 rows x 18 columns]",
      "text/html": "<div>\n<style scoped>\n    .dataframe tbody tr th:only-of-type {\n        vertical-align: middle;\n    }\n\n    .dataframe tbody tr th {\n        vertical-align: top;\n    }\n\n    .dataframe thead th {\n        text-align: right;\n    }\n</style>\n<table border=\"1\" class=\"dataframe\">\n  <thead>\n    <tr style=\"text-align: right;\">\n      <th></th>\n      <th>codigo_sap</th>\n      <th>codigo_eds</th>\n      <th>tienda</th>\n      <th>marca</th>\n      <th>formato</th>\n      <th>mercado</th>\n      <th>direccion</th>\n      <th>comuna</th>\n      <th>region</th>\n      <th>EDS</th>\n      <th>Zona</th>\n      <th>Dirección</th>\n      <th>Región</th>\n      <th>Provincia</th>\n      <th>Comuna</th>\n      <th>Fecha Apertura</th>\n      <th>Latitud</th>\n      <th>Longitud</th>\n    </tr>\n  </thead>\n  <tbody>\n    <tr>\n      <th>0</th>\n      <td>2009</td>\n      <td>10096</td>\n      <td>Pozo Almonte</td>\n      <td>Pronto</td>\n      <td>Barra</td>\n      <td>Carretera</td>\n      <td>Panamericana norte km 1810</td>\n      <td>Pozo Almonte</td>\n      <td>Tarapacá</td>\n      <td>NaN</td>\n      <td>NaN</td>\n      <td>NaN</td>\n      <td>NaN</td>\n      <td>NaN</td>\n      <td>NaN</td>\n      <td>NaT</td>\n      <td>0.0</td>\n      <td>0.0</td>\n    </tr>\n    <tr>\n      <th>1</th>\n      <td>2013</td>\n      <td>20012</td>\n      <td>San Rafael Oriente</td>\n      <td>Pronto</td>\n      <td>Barra</td>\n      <td>Carretera</td>\n      <td>RUTA 5 SUR KM 237</td>\n      <td>San Rafael</td>\n      <td>Maule</td>\n      <td>NaN</td>\n      <td>NaN</td>\n      <td>NaN</td>\n      <td>NaN</td>\n      <td>NaN</td>\n      <td>NaN</td>\n      <td>NaT</td>\n      <td>0.0</td>\n      <td>0.0</td>\n    </tr>\n    <tr>\n      <th>2</th>\n      <td>2012</td>\n      <td>20017</td>\n      <td>San Carlos Oriente</td>\n      <td>Pronto</td>\n      <td>Barra</td>\n      <td>Carretera</td>\n      <td>RUTA 5 SUR KM 383,3</td>\n      <td>San Carlos</td>\n      <td>Ñuble</td>\n      <td>NaN</td>\n      <td>NaN</td>\n      <td>NaN</td>\n      <td>NaN</td>\n      <td>NaN</td>\n      <td>NaN</td>\n      <td>NaT</td>\n      <td>0.0</td>\n      <td>0.0</td>\n    </tr>\n    <tr>\n      <th>3</th>\n      <td>2056</td>\n      <td>20089</td>\n      <td>Puerto Varas</td>\n      <td>Pronto</td>\n      <td>Barra</td>\n      <td>Carretera</td>\n      <td>RUTA 5 SUR KM 1009,4.</td>\n      <td>Puerto Varas</td>\n      <td>Los Lagos</td>\n      <td>NaN</td>\n      <td>NaN</td>\n      <td>NaN</td>\n      <td>NaN</td>\n      <td>NaN</td>\n      <td>NaN</td>\n      <td>NaT</td>\n      <td>0.0</td>\n      <td>0.0</td>\n    </tr>\n    <tr>\n      <th>4</th>\n      <td>2055</td>\n      <td>20091</td>\n      <td>Trafún Poniente</td>\n      <td>Pronto</td>\n      <td>Barra</td>\n      <td>Carretera</td>\n      <td>RUTA 5 SUR KM. 904,3 TRAFUN.</td>\n      <td>San Pablo</td>\n      <td>Los Lagos</td>\n      <td>NaN</td>\n      <td>NaN</td>\n      <td>NaN</td>\n      <td>NaN</td>\n      <td>NaN</td>\n      <td>NaN</td>\n      <td>NaT</td>\n      <td>0.0</td>\n      <td>0.0</td>\n    </tr>\n    <tr>\n      <th>...</th>\n      <td>...</td>\n      <td>...</td>\n      <td>...</td>\n      <td>...</td>\n      <td>...</td>\n      <td>...</td>\n      <td>...</td>\n      <td>...</td>\n      <td>...</td>\n      <td>...</td>\n      <td>...</td>\n      <td>...</td>\n      <td>...</td>\n      <td>...</td>\n      <td>...</td>\n      <td>...</td>\n      <td>...</td>\n      <td>...</td>\n    </tr>\n    <tr>\n      <th>409</th>\n      <td>-1</td>\n      <td>10436</td>\n      <td>AVDA. 27 DE ABRIL S/N</td>\n      <td>PUNTO</td>\n      <td>Foodtruck</td>\n      <td>Urbana</td>\n      <td>AV. 27 DE ABRIL S/N</td>\n      <td>PICA</td>\n      <td>TARAPACA</td>\n      <td>10436.0</td>\n      <td>OZN</td>\n      <td>AV. 27 DE ABRIL S/N</td>\n      <td>1.0</td>\n      <td>TARAPACÁ</td>\n      <td>PICA</td>\n      <td>2021-06-10</td>\n      <td>0.0</td>\n      <td>0.0</td>\n    </tr>\n    <tr>\n      <th>410</th>\n      <td>-1</td>\n      <td>40183</td>\n      <td>La Serena Ruta 41</td>\n      <td>PUNTO</td>\n      <td>Punto Copec</td>\n      <td>Urbana</td>\n      <td>COLO COLO N°5300</td>\n      <td>LA SERENA</td>\n      <td>COQUIMBO</td>\n      <td>40183.0</td>\n      <td>OZC</td>\n      <td>COLO COLO N°5300</td>\n      <td>4.0</td>\n      <td>LA SERENA</td>\n      <td>LA SERENA</td>\n      <td>2021-07-01</td>\n      <td>0.0</td>\n      <td>0.0</td>\n    </tr>\n    <tr>\n      <th>411</th>\n      <td>-1</td>\n      <td>40188</td>\n      <td>Olmué</td>\n      <td>PUNTO</td>\n      <td>Punto Copec</td>\n      <td>Urbana</td>\n      <td>AV ADOLFO EASTMAN 2603</td>\n      <td>OLMUÉ</td>\n      <td>VALPARAISO</td>\n      <td>40188.0</td>\n      <td>OZC</td>\n      <td>AV. ADOLFO EASTMAN 2603</td>\n      <td>5.0</td>\n      <td>VALPARAÍSO</td>\n      <td>OLMUE</td>\n      <td>2021-07-08</td>\n      <td>0.0</td>\n      <td>0.0</td>\n    </tr>\n    <tr>\n      <th>412</th>\n      <td>-1</td>\n      <td>10617</td>\n      <td>ANIBAL PINTO 400</td>\n      <td>PUNTO</td>\n      <td>Punto AP</td>\n      <td>Urbana</td>\n      <td>Punto Iquique</td>\n      <td>DIEGO DE ALMAGRO</td>\n      <td>ATACAMA</td>\n      <td>NaN</td>\n      <td>NaN</td>\n      <td>NaN</td>\n      <td>NaN</td>\n      <td>NaN</td>\n      <td>NaN</td>\n      <td>NaT</td>\n      <td>0.0</td>\n      <td>0.0</td>\n    </tr>\n    <tr>\n      <th>413</th>\n      <td>-1</td>\n      <td>20011</td>\n      <td>Coronel</td>\n      <td>PUNTO</td>\n      <td>Punto Copec</td>\n      <td>Urbana</td>\n      <td>SOTOMAYOR 1300</td>\n      <td>CORONEL</td>\n      <td>BIOBIO</td>\n      <td>20011.0</td>\n      <td>OZS</td>\n      <td>AV. SOTOMAYOR 1300</td>\n      <td>8.0</td>\n      <td>CONCEPCIÓN</td>\n      <td>CORONEL</td>\n      <td>2021-08-18</td>\n      <td>0.0</td>\n      <td>0.0</td>\n    </tr>\n  </tbody>\n</table>\n<p>413 rows × 18 columns</p>\n</div>"
     },
     "execution_count": 10,
     "metadata": {},
     "output_type": "execute_result"
    }
   ],
   "source": [
    "# Completar con 0 las latitudes y longitudes nulas\n",
    "eds_con_tienda_df['Latitud'] = eds_con_tienda_df['Latitud'].fillna(0.0).astype('float')\n",
    "eds_con_tienda_df['Longitud'] = eds_con_tienda_df['Longitud'].fillna(0.0).astype('float')\n",
    "\n",
    "# Eliminar los registros sin dirección\n",
    "eds_con_tienda_df.dropna(axis=0, inplace=True, subset=['Dirección', 'direccion'], how='all')\n",
    "\n",
    "# Eliminar registros duplicados\n",
    "eds_con_tienda_df.drop_duplicates(subset=['codigo_eds'], inplace=True)\n",
    "\n",
    "eds_con_tienda_df"
   ],
   "metadata": {
    "collapsed": false,
    "pycharm": {
     "name": "#%%\n"
    }
   }
  },
  {
   "cell_type": "code",
   "execution_count": 11,
   "outputs": [],
   "source": [
    "eds_con_tienda_df.to_csv('eds_con_tienda.csv', sep=';', index=False)\n",
    "eds_sin_tienda_df.to_csv('eds_sin_tienda.csv', sep=';', index=False)"
   ],
   "metadata": {
    "collapsed": false,
    "pycharm": {
     "name": "#%%\n"
    }
   }
  },
  {
   "cell_type": "code",
   "execution_count": 11,
   "outputs": [],
   "source": [],
   "metadata": {
    "collapsed": false,
    "pycharm": {
     "name": "#%%\n"
    }
   }
  }
 ],
 "metadata": {
  "kernelspec": {
   "display_name": "Python 3",
   "language": "python",
   "name": "python3"
  },
  "language_info": {
   "codemirror_mode": {
    "name": "ipython",
    "version": 2
   },
   "file_extension": ".py",
   "mimetype": "text/x-python",
   "name": "python",
   "nbconvert_exporter": "python",
   "pygments_lexer": "ipython2",
   "version": "2.7.6"
  }
 },
 "nbformat": 4,
 "nbformat_minor": 0
}