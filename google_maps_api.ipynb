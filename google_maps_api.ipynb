{
 "cells": [
  {
   "cell_type": "code",
   "execution_count": 1,
   "metadata": {
    "collapsed": true
   },
   "outputs": [],
   "source": [
    "import pandas as pd\n",
    "import googlemaps\n",
    "import json"
   ]
  },
  {
   "cell_type": "code",
   "execution_count": 2,
   "outputs": [],
   "source": [
    "def get_address(gmaps, latitude, longitude):\n",
    "\n",
    "    commune = ''\n",
    "    province = ''\n",
    "    region = ''\n",
    "    country = ''\n",
    "\n",
    "    # Look up an address with reverse geocoding\n",
    "    reverse_geocode_result = gmaps.reverse_geocode((latitude, longitude))\n",
    "\n",
    "    if len(reverse_geocode_result[0]['address_components'])>=4:\n",
    "\n",
    "        commune = reverse_geocode_result[0]['address_components'][\n",
    "            len(reverse_geocode_result[0]['address_components'])-4]['long_name']\n",
    "        province = reverse_geocode_result[0]['address_components'][\n",
    "            len(reverse_geocode_result[0]['address_components'])-3]['long_name']\n",
    "        region = reverse_geocode_result[0]['address_components'][\n",
    "            len(reverse_geocode_result[0]['address_components'])-2]['long_name']\n",
    "        country = reverse_geocode_result[0]['address_components'][\n",
    "            len(reverse_geocode_result[0]['address_components'])-1]['long_name']\n",
    "\n",
    "    return commune, province, region, country"
   ],
   "metadata": {
    "collapsed": false,
    "pycharm": {
     "name": "#%%\n"
    }
   }
  },
  {
   "cell_type": "code",
   "execution_count": 3,
   "outputs": [],
   "source": [
    "with open('api_key.json') as json_file:\n",
    "        data = json.load(json_file)\n",
    "        api_key = data['api_key'][0]\n"
   ],
   "metadata": {
    "collapsed": false,
    "pycharm": {
     "name": "#%%\n"
    }
   }
  },
  {
   "cell_type": "code",
   "execution_count": 4,
   "outputs": [],
   "source": [
    "stations_df = pd.read_csv('stations.csv')"
   ],
   "metadata": {
    "collapsed": false,
    "pycharm": {
     "name": "#%%\n"
    }
   }
  },
  {
   "cell_type": "code",
   "execution_count": 6,
   "outputs": [],
   "source": [
    "# Connect to google maps api by using api key\n",
    "g = googlemaps.Client(key=api_key)"
   ],
   "metadata": {
    "collapsed": false,
    "pycharm": {
     "name": "#%%\n"
    }
   }
  },
  {
   "cell_type": "code",
   "execution_count": 7,
   "outputs": [
    {
     "data": {
      "text/plain": "    codigo_estacion                      nombre  latitud  longitud  \\\n0          01000005                     Visviri -17.5950  -69.4831   \n1          01001005                     Caquena -18.0542  -69.2017   \n2          01010007              Chungara Reten -18.2808  -69.1383   \n3          01010010              Chungara Ajata -18.2353  -69.1833   \n4          01020002  Rio Desaguadero Cotacotani -18.1936  -69.2458   \n..              ...                         ...      ...       ...   \n968     VEM00080437                    El Vigia   8.6330  -71.6500   \n969     VEM00080440                     Barinas   8.6200  -70.2210   \n970     VEM00080447     San Antonio Del Tachira   7.8410  -72.4400   \n971     VEM00080448                 Guasdualito   7.2110  -70.7560   \n972     VEM00080472       Arturo Michelena Intl  10.1500  -67.9280   \n\n              comuna              provincia              region       pais  \n0      General Lagos    Parinacota Province  Arica y Parinacota      Chile  \n1              Putre    Parinacota Province  Arica y Parinacota      Chile  \n2              Putre             Parinacota  Arica y Parinacota      Chile  \n3              Putre             Parinacota  Arica y Parinacota      Chile  \n4              Putre    Parinacota Province  Arica y Parinacota      Chile  \n..               ...                    ...                 ...        ...  \n968  Alberto Adriani                 Mérida           Venezuela       5145  \n969          Barinas                Barinas           Venezuela       5201  \n970          Bolívar                Táchira           Venezuela       5007  \n971             Paez                  Apure           Venezuela       5063  \n972         Valencia  Valencia Municipality            Carabobo  Venezuela  \n\n[973 rows x 8 columns]",
      "text/html": "<div>\n<style scoped>\n    .dataframe tbody tr th:only-of-type {\n        vertical-align: middle;\n    }\n\n    .dataframe tbody tr th {\n        vertical-align: top;\n    }\n\n    .dataframe thead th {\n        text-align: right;\n    }\n</style>\n<table border=\"1\" class=\"dataframe\">\n  <thead>\n    <tr style=\"text-align: right;\">\n      <th></th>\n      <th>codigo_estacion</th>\n      <th>nombre</th>\n      <th>latitud</th>\n      <th>longitud</th>\n      <th>comuna</th>\n      <th>provincia</th>\n      <th>region</th>\n      <th>pais</th>\n    </tr>\n  </thead>\n  <tbody>\n    <tr>\n      <th>0</th>\n      <td>01000005</td>\n      <td>Visviri</td>\n      <td>-17.5950</td>\n      <td>-69.4831</td>\n      <td>General Lagos</td>\n      <td>Parinacota Province</td>\n      <td>Arica y Parinacota</td>\n      <td>Chile</td>\n    </tr>\n    <tr>\n      <th>1</th>\n      <td>01001005</td>\n      <td>Caquena</td>\n      <td>-18.0542</td>\n      <td>-69.2017</td>\n      <td>Putre</td>\n      <td>Parinacota Province</td>\n      <td>Arica y Parinacota</td>\n      <td>Chile</td>\n    </tr>\n    <tr>\n      <th>2</th>\n      <td>01010007</td>\n      <td>Chungara Reten</td>\n      <td>-18.2808</td>\n      <td>-69.1383</td>\n      <td>Putre</td>\n      <td>Parinacota</td>\n      <td>Arica y Parinacota</td>\n      <td>Chile</td>\n    </tr>\n    <tr>\n      <th>3</th>\n      <td>01010010</td>\n      <td>Chungara Ajata</td>\n      <td>-18.2353</td>\n      <td>-69.1833</td>\n      <td>Putre</td>\n      <td>Parinacota</td>\n      <td>Arica y Parinacota</td>\n      <td>Chile</td>\n    </tr>\n    <tr>\n      <th>4</th>\n      <td>01020002</td>\n      <td>Rio Desaguadero Cotacotani</td>\n      <td>-18.1936</td>\n      <td>-69.2458</td>\n      <td>Putre</td>\n      <td>Parinacota Province</td>\n      <td>Arica y Parinacota</td>\n      <td>Chile</td>\n    </tr>\n    <tr>\n      <th>...</th>\n      <td>...</td>\n      <td>...</td>\n      <td>...</td>\n      <td>...</td>\n      <td>...</td>\n      <td>...</td>\n      <td>...</td>\n      <td>...</td>\n    </tr>\n    <tr>\n      <th>968</th>\n      <td>VEM00080437</td>\n      <td>El Vigia</td>\n      <td>8.6330</td>\n      <td>-71.6500</td>\n      <td>Alberto Adriani</td>\n      <td>Mérida</td>\n      <td>Venezuela</td>\n      <td>5145</td>\n    </tr>\n    <tr>\n      <th>969</th>\n      <td>VEM00080440</td>\n      <td>Barinas</td>\n      <td>8.6200</td>\n      <td>-70.2210</td>\n      <td>Barinas</td>\n      <td>Barinas</td>\n      <td>Venezuela</td>\n      <td>5201</td>\n    </tr>\n    <tr>\n      <th>970</th>\n      <td>VEM00080447</td>\n      <td>San Antonio Del Tachira</td>\n      <td>7.8410</td>\n      <td>-72.4400</td>\n      <td>Bolívar</td>\n      <td>Táchira</td>\n      <td>Venezuela</td>\n      <td>5007</td>\n    </tr>\n    <tr>\n      <th>971</th>\n      <td>VEM00080448</td>\n      <td>Guasdualito</td>\n      <td>7.2110</td>\n      <td>-70.7560</td>\n      <td>Paez</td>\n      <td>Apure</td>\n      <td>Venezuela</td>\n      <td>5063</td>\n    </tr>\n    <tr>\n      <th>972</th>\n      <td>VEM00080472</td>\n      <td>Arturo Michelena Intl</td>\n      <td>10.1500</td>\n      <td>-67.9280</td>\n      <td>Valencia</td>\n      <td>Valencia Municipality</td>\n      <td>Carabobo</td>\n      <td>Venezuela</td>\n    </tr>\n  </tbody>\n</table>\n<p>973 rows × 8 columns</p>\n</div>"
     },
     "execution_count": 7,
     "metadata": {},
     "output_type": "execute_result"
    }
   ],
   "source": [
    "# Look up an addresses with reverse geocoding\n",
    "unpacked_tuple_df = pd.DataFrame(\n",
    "    stations_df.apply(\n",
    "        lambda x: get_address(g, x['latitud'], x['longitud']),\n",
    "        axis=1).tolist(), columns=['comuna', 'provincia', 'region', 'pais'], index=stations_df.index)\n",
    "stations_df = pd.concat([stations_df, unpacked_tuple_df], axis=1)\n",
    "stations_df\n"
   ],
   "metadata": {
    "collapsed": false,
    "pycharm": {
     "name": "#%%\n"
    }
   }
  },
  {
   "cell_type": "code",
   "execution_count": 8,
   "outputs": [],
   "source": [
    "stations_df.to_csv('stations_locations.csv', sep=';', index=False)"
   ],
   "metadata": {
    "collapsed": false,
    "pycharm": {
     "name": "#%%\n"
    }
   }
  },
  {
   "cell_type": "code",
   "execution_count": null,
   "outputs": [],
   "source": [],
   "metadata": {
    "collapsed": false,
    "pycharm": {
     "name": "#%%\n"
    }
   }
  }
 ],
 "metadata": {
  "kernelspec": {
   "display_name": "Python 3",
   "language": "python",
   "name": "python3"
  },
  "language_info": {
   "codemirror_mode": {
    "name": "ipython",
    "version": 2
   },
   "file_extension": ".py",
   "mimetype": "text/x-python",
   "name": "python",
   "nbconvert_exporter": "python",
   "pygments_lexer": "ipython2",
   "version": "2.7.6"
  }
 },
 "nbformat": 4,
 "nbformat_minor": 0
}